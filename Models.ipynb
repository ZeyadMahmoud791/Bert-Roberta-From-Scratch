{
  "cells": [
    {
      "cell_type": "markdown",
      "source": [
        "Mounting my Drive"
      ],
      "metadata": {
        "id": "ffR99KXmncAT"
      }
    },
    {
      "cell_type": "code",
      "source": [
        "from google.colab import drive\n",
        "\n",
        "drive.mount(\"./drive\")"
      ],
      "metadata": {
        "id": "9nX6LD7rixHd",
        "colab": {
          "base_uri": "https://localhost:8080/"
        },
        "outputId": "10c09c2f-4317-4f38-98de-555fa5c14688"
      },
      "execution_count": null,
      "outputs": [
        {
          "output_type": "stream",
          "name": "stdout",
          "text": [
            "Mounted at ./drive\n"
          ]
        }
      ]
    },
    {
      "cell_type": "markdown",
      "source": [
        "# **Installing Dependencies**\n"
      ],
      "metadata": {
        "id": "sh3MKU67gj6_"
      }
    },
    {
      "cell_type": "code",
      "source": [
        "# For using RoBERTA\n",
        "!pip install transformers -q"
      ],
      "metadata": {
        "id": "aDzWPQnepVrp",
        "colab": {
          "base_uri": "https://localhost:8080/"
        },
        "outputId": "1e3595a2-31b9-488e-ead9-cb1984b9eeb5"
      },
      "execution_count": null,
      "outputs": [
        {
          "output_type": "stream",
          "name": "stdout",
          "text": [
            "\u001b[K     |████████████████████████████████| 5.8 MB 25.8 MB/s \n",
            "\u001b[K     |████████████████████████████████| 182 kB 78.8 MB/s \n",
            "\u001b[K     |████████████████████████████████| 7.6 MB 68.6 MB/s \n",
            "\u001b[?25h"
          ]
        }
      ]
    },
    {
      "cell_type": "code",
      "source": [
        "# A dependency of the preprocessing for BERT inputs\n",
        "!pip install tensorflow-text==2.9.0 -q"
      ],
      "metadata": {
        "id": "DY-OJkKXhVTU",
        "colab": {
          "base_uri": "https://localhost:8080/"
        },
        "outputId": "66cdb1b0-c0de-468f-d76e-7ad70d4b6393"
      },
      "execution_count": null,
      "outputs": [
        {
          "output_type": "stream",
          "name": "stdout",
          "text": [
            "\u001b[K     |████████████████████████████████| 4.6 MB 31.7 MB/s \n",
            "\u001b[?25h"
          ]
        }
      ]
    },
    {
      "cell_type": "code",
      "source": [
        "# For using the AdamW optimizer\n",
        "!pip install tf-models-official==2.9.2 -q"
      ],
      "metadata": {
        "id": "xDLs4E0IhcZ5",
        "colab": {
          "base_uri": "https://localhost:8080/"
        },
        "outputId": "66e81a38-6758-4fad-8c27-e432a1b87cf6"
      },
      "execution_count": null,
      "outputs": [
        {
          "output_type": "stream",
          "name": "stdout",
          "text": [
            "\u001b[K     |████████████████████████████████| 2.1 MB 30.3 MB/s \n",
            "\u001b[K     |████████████████████████████████| 1.1 MB 62.0 MB/s \n",
            "\u001b[K     |████████████████████████████████| 43 kB 2.3 MB/s \n",
            "\u001b[K     |████████████████████████████████| 662 kB 63.6 MB/s \n",
            "\u001b[K     |████████████████████████████████| 352 kB 76.5 MB/s \n",
            "\u001b[K     |████████████████████████████████| 238 kB 52.5 MB/s \n",
            "\u001b[K     |████████████████████████████████| 118 kB 60.8 MB/s \n",
            "\u001b[K     |████████████████████████████████| 1.3 MB 60.2 MB/s \n",
            "\u001b[?25h  Building wheel for seqeval (setup.py) ... \u001b[?25l\u001b[?25hdone\n"
          ]
        }
      ]
    },
    {
      "cell_type": "code",
      "source": [
        "# For plotting accuracy live during training\n",
        "!pip install livelossplot -q"
      ],
      "metadata": {
        "id": "LQjm5vgRg56N"
      },
      "execution_count": null,
      "outputs": []
    },
    {
      "cell_type": "markdown",
      "metadata": {
        "id": "aUC58P53Bqw7"
      },
      "source": [
        "# **Loading Data**"
      ]
    },
    {
      "cell_type": "markdown",
      "metadata": {
        "id": "VsyFfOwqYgKM"
      },
      "source": [
        "Download the data from Google Drive"
      ]
    },
    {
      "cell_type": "code",
      "execution_count": null,
      "metadata": {
        "colab": {
          "base_uri": "https://localhost:8080/"
        },
        "id": "p9Ud4VROAn_i",
        "outputId": "8bde5d30-8d27-450f-b933-218efef5d8ef"
      },
      "outputs": [
        {
          "output_type": "stream",
          "name": "stdout",
          "text": [
            "Downloading...\n",
            "From: https://drive.google.com/uc?id=1KZd_RVoOuOKb5YVhZyqOHbXoOUhr1WSE\n",
            "To: /content/Movie_Reviews.csv\n",
            "100% 66.2M/66.2M [00:01<00:00, 35.0MB/s]\n"
          ]
        }
      ],
      "source": [
        "!gdown 1KZd_RVoOuOKb5YVhZyqOHbXoOUhr1WSE"
      ]
    },
    {
      "cell_type": "markdown",
      "metadata": {
        "id": "vt-dvUuEYaxV"
      },
      "source": [
        "Read the downloaded csv file"
      ]
    },
    {
      "cell_type": "code",
      "execution_count": null,
      "metadata": {
        "colab": {
          "base_uri": "https://localhost:8080/",
          "height": 1000
        },
        "id": "sW8N-S9RB8gw",
        "outputId": "85a23579-a41a-42b6-aa42-35c731a1029a"
      },
      "outputs": [
        {
          "output_type": "execute_result",
          "data": {
            "text/plain": [
              "                                                  review sentiment\n",
              "0      One of the other reviewers has mentioned that ...  positive\n",
              "1      A wonderful little production. <br /><br />The...  positive\n",
              "2      I thought this was a wonderful way to spend ti...  positive\n",
              "3      Basically there's a family where a little boy ...  negative\n",
              "4      Petter Mattei's \"Love in the Time of Money\" is...  positive\n",
              "...                                                  ...       ...\n",
              "49995  I thought this movie did a down right good job...  positive\n",
              "49996  Bad plot, bad dialogue, bad acting, idiotic di...  negative\n",
              "49997  I am a Catholic taught in parochial elementary...  negative\n",
              "49998  I'm going to have to disagree with the previou...  negative\n",
              "49999  No one expects the Star Trek movies to be high...  negative\n",
              "\n",
              "[50000 rows x 2 columns]"
            ],
            "text/html": [
              "\n",
              "  <div id=\"df-5cb4b7ea-b4ea-4414-ab03-db37a6721b26\">\n",
              "    <div class=\"colab-df-container\">\n",
              "      <div>\n",
              "<style scoped>\n",
              "    .dataframe tbody tr th:only-of-type {\n",
              "        vertical-align: middle;\n",
              "    }\n",
              "\n",
              "    .dataframe tbody tr th {\n",
              "        vertical-align: top;\n",
              "    }\n",
              "\n",
              "    .dataframe thead th {\n",
              "        text-align: right;\n",
              "    }\n",
              "</style>\n",
              "<table border=\"1\" class=\"dataframe\">\n",
              "  <thead>\n",
              "    <tr style=\"text-align: right;\">\n",
              "      <th></th>\n",
              "      <th>review</th>\n",
              "      <th>sentiment</th>\n",
              "    </tr>\n",
              "  </thead>\n",
              "  <tbody>\n",
              "    <tr>\n",
              "      <th>0</th>\n",
              "      <td>One of the other reviewers has mentioned that ...</td>\n",
              "      <td>positive</td>\n",
              "    </tr>\n",
              "    <tr>\n",
              "      <th>1</th>\n",
              "      <td>A wonderful little production. &lt;br /&gt;&lt;br /&gt;The...</td>\n",
              "      <td>positive</td>\n",
              "    </tr>\n",
              "    <tr>\n",
              "      <th>2</th>\n",
              "      <td>I thought this was a wonderful way to spend ti...</td>\n",
              "      <td>positive</td>\n",
              "    </tr>\n",
              "    <tr>\n",
              "      <th>3</th>\n",
              "      <td>Basically there's a family where a little boy ...</td>\n",
              "      <td>negative</td>\n",
              "    </tr>\n",
              "    <tr>\n",
              "      <th>4</th>\n",
              "      <td>Petter Mattei's \"Love in the Time of Money\" is...</td>\n",
              "      <td>positive</td>\n",
              "    </tr>\n",
              "    <tr>\n",
              "      <th>...</th>\n",
              "      <td>...</td>\n",
              "      <td>...</td>\n",
              "    </tr>\n",
              "    <tr>\n",
              "      <th>49995</th>\n",
              "      <td>I thought this movie did a down right good job...</td>\n",
              "      <td>positive</td>\n",
              "    </tr>\n",
              "    <tr>\n",
              "      <th>49996</th>\n",
              "      <td>Bad plot, bad dialogue, bad acting, idiotic di...</td>\n",
              "      <td>negative</td>\n",
              "    </tr>\n",
              "    <tr>\n",
              "      <th>49997</th>\n",
              "      <td>I am a Catholic taught in parochial elementary...</td>\n",
              "      <td>negative</td>\n",
              "    </tr>\n",
              "    <tr>\n",
              "      <th>49998</th>\n",
              "      <td>I'm going to have to disagree with the previou...</td>\n",
              "      <td>negative</td>\n",
              "    </tr>\n",
              "    <tr>\n",
              "      <th>49999</th>\n",
              "      <td>No one expects the Star Trek movies to be high...</td>\n",
              "      <td>negative</td>\n",
              "    </tr>\n",
              "  </tbody>\n",
              "</table>\n",
              "<p>50000 rows × 2 columns</p>\n",
              "</div>\n",
              "      <button class=\"colab-df-convert\" onclick=\"convertToInteractive('df-5cb4b7ea-b4ea-4414-ab03-db37a6721b26')\"\n",
              "              title=\"Convert this dataframe to an interactive table.\"\n",
              "              style=\"display:none;\">\n",
              "        \n",
              "  <svg xmlns=\"http://www.w3.org/2000/svg\" height=\"24px\"viewBox=\"0 0 24 24\"\n",
              "       width=\"24px\">\n",
              "    <path d=\"M0 0h24v24H0V0z\" fill=\"none\"/>\n",
              "    <path d=\"M18.56 5.44l.94 2.06.94-2.06 2.06-.94-2.06-.94-.94-2.06-.94 2.06-2.06.94zm-11 1L8.5 8.5l.94-2.06 2.06-.94-2.06-.94L8.5 2.5l-.94 2.06-2.06.94zm10 10l.94 2.06.94-2.06 2.06-.94-2.06-.94-.94-2.06-.94 2.06-2.06.94z\"/><path d=\"M17.41 7.96l-1.37-1.37c-.4-.4-.92-.59-1.43-.59-.52 0-1.04.2-1.43.59L10.3 9.45l-7.72 7.72c-.78.78-.78 2.05 0 2.83L4 21.41c.39.39.9.59 1.41.59.51 0 1.02-.2 1.41-.59l7.78-7.78 2.81-2.81c.8-.78.8-2.07 0-2.86zM5.41 20L4 18.59l7.72-7.72 1.47 1.35L5.41 20z\"/>\n",
              "  </svg>\n",
              "      </button>\n",
              "      \n",
              "  <style>\n",
              "    .colab-df-container {\n",
              "      display:flex;\n",
              "      flex-wrap:wrap;\n",
              "      gap: 12px;\n",
              "    }\n",
              "\n",
              "    .colab-df-convert {\n",
              "      background-color: #E8F0FE;\n",
              "      border: none;\n",
              "      border-radius: 50%;\n",
              "      cursor: pointer;\n",
              "      display: none;\n",
              "      fill: #1967D2;\n",
              "      height: 32px;\n",
              "      padding: 0 0 0 0;\n",
              "      width: 32px;\n",
              "    }\n",
              "\n",
              "    .colab-df-convert:hover {\n",
              "      background-color: #E2EBFA;\n",
              "      box-shadow: 0px 1px 2px rgba(60, 64, 67, 0.3), 0px 1px 3px 1px rgba(60, 64, 67, 0.15);\n",
              "      fill: #174EA6;\n",
              "    }\n",
              "\n",
              "    [theme=dark] .colab-df-convert {\n",
              "      background-color: #3B4455;\n",
              "      fill: #D2E3FC;\n",
              "    }\n",
              "\n",
              "    [theme=dark] .colab-df-convert:hover {\n",
              "      background-color: #434B5C;\n",
              "      box-shadow: 0px 1px 3px 1px rgba(0, 0, 0, 0.15);\n",
              "      filter: drop-shadow(0px 1px 2px rgba(0, 0, 0, 0.3));\n",
              "      fill: #FFFFFF;\n",
              "    }\n",
              "  </style>\n",
              "\n",
              "      <script>\n",
              "        const buttonEl =\n",
              "          document.querySelector('#df-5cb4b7ea-b4ea-4414-ab03-db37a6721b26 button.colab-df-convert');\n",
              "        buttonEl.style.display =\n",
              "          google.colab.kernel.accessAllowed ? 'block' : 'none';\n",
              "\n",
              "        async function convertToInteractive(key) {\n",
              "          const element = document.querySelector('#df-5cb4b7ea-b4ea-4414-ab03-db37a6721b26');\n",
              "          const dataTable =\n",
              "            await google.colab.kernel.invokeFunction('convertToInteractive',\n",
              "                                                     [key], {});\n",
              "          if (!dataTable) return;\n",
              "\n",
              "          const docLinkHtml = 'Like what you see? Visit the ' +\n",
              "            '<a target=\"_blank\" href=https://colab.research.google.com/notebooks/data_table.ipynb>data table notebook</a>'\n",
              "            + ' to learn more about interactive tables.';\n",
              "          element.innerHTML = '';\n",
              "          dataTable['output_type'] = 'display_data';\n",
              "          await google.colab.output.renderOutput(dataTable, element);\n",
              "          const docLink = document.createElement('div');\n",
              "          docLink.innerHTML = docLinkHtml;\n",
              "          element.appendChild(docLink);\n",
              "        }\n",
              "      </script>\n",
              "    </div>\n",
              "  </div>\n",
              "  "
            ]
          },
          "metadata": {},
          "execution_count": 9
        }
      ],
      "source": [
        "import pandas as pd\n",
        "\n",
        "data = pd.read_csv(\"./Movie_Reviews.csv\")\n",
        "data"
      ]
    },
    {
      "cell_type": "code",
      "source": [
        "reviews = data['review']\n",
        "reviews"
      ],
      "metadata": {
        "colab": {
          "base_uri": "https://localhost:8080/"
        },
        "id": "HdBBSvSAnzok",
        "outputId": "2b046830-fe66-42d6-87dc-be63534443d5"
      },
      "execution_count": null,
      "outputs": [
        {
          "output_type": "execute_result",
          "data": {
            "text/plain": [
              "0        One of the other reviewers has mentioned that ...\n",
              "1        A wonderful little production. <br /><br />The...\n",
              "2        I thought this was a wonderful way to spend ti...\n",
              "3        Basically there's a family where a little boy ...\n",
              "4        Petter Mattei's \"Love in the Time of Money\" is...\n",
              "                               ...                        \n",
              "49995    I thought this movie did a down right good job...\n",
              "49996    Bad plot, bad dialogue, bad acting, idiotic di...\n",
              "49997    I am a Catholic taught in parochial elementary...\n",
              "49998    I'm going to have to disagree with the previou...\n",
              "49999    No one expects the Star Trek movies to be high...\n",
              "Name: review, Length: 50000, dtype: object"
            ]
          },
          "metadata": {},
          "execution_count": 10
        }
      ]
    },
    {
      "cell_type": "code",
      "execution_count": null,
      "metadata": {
        "colab": {
          "base_uri": "https://localhost:8080/"
        },
        "id": "skQM7HvnA0uo",
        "outputId": "6bdee296-8b17-4443-f75f-81cab3794f4c"
      },
      "outputs": [
        {
          "output_type": "execute_result",
          "data": {
            "text/plain": [
              "0        positive\n",
              "1        positive\n",
              "2        positive\n",
              "3        negative\n",
              "4        positive\n",
              "           ...   \n",
              "49995    positive\n",
              "49996    negative\n",
              "49997    negative\n",
              "49998    negative\n",
              "49999    negative\n",
              "Name: sentiment, Length: 50000, dtype: object"
            ]
          },
          "metadata": {},
          "execution_count": 11
        }
      ],
      "source": [
        "sentiments = data['sentiment']\n",
        "sentiments"
      ]
    },
    {
      "cell_type": "markdown",
      "source": [
        "Convert the sentiments to integer labels"
      ],
      "metadata": {
        "id": "vZ_nPjCMwlVn"
      }
    },
    {
      "cell_type": "code",
      "execution_count": null,
      "metadata": {
        "id": "qmI5EghH9guh",
        "colab": {
          "base_uri": "https://localhost:8080/"
        },
        "outputId": "a6c29551-1710-4926-8a02-7033e4d55768"
      },
      "outputs": [
        {
          "output_type": "execute_result",
          "data": {
            "text/plain": [
              "0        1\n",
              "1        1\n",
              "2        1\n",
              "3        0\n",
              "4        1\n",
              "        ..\n",
              "49995    1\n",
              "49996    0\n",
              "49997    0\n",
              "49998    0\n",
              "49999    0\n",
              "Name: labels, Length: 50000, dtype: int64"
            ]
          },
          "metadata": {},
          "execution_count": 12
        }
      ],
      "source": [
        "to_label_map = {\n",
        "    \"negative\": 0,\n",
        "    \"positive\": 1\n",
        "}\n",
        "labels = sentiments.apply(\n",
        "    lambda sentiment: to_label_map[sentiment],\n",
        ")\n",
        "labels.name = \"labels\"\n",
        "labels"
      ]
    },
    {
      "cell_type": "markdown",
      "metadata": {
        "id": "mD39v_DlcSsg"
      },
      "source": [
        "# **Data Preprocessing**"
      ]
    },
    {
      "cell_type": "markdown",
      "metadata": {
        "id": "ZpyXbeVwYTBN"
      },
      "source": [
        "Showing a review sample to see how the data looks\n"
      ]
    },
    {
      "cell_type": "code",
      "execution_count": null,
      "metadata": {
        "colab": {
          "base_uri": "https://localhost:8080/",
          "height": 1000
        },
        "id": "fw9VLaTtCdgp",
        "outputId": "42aec12e-d05b-4760-a8b3-baf6da7e1cc3"
      },
      "outputs": [
        {
          "output_type": "execute_result",
          "data": {
            "text/plain": [
              "'A wonderful little production. <br /><br />The filming technique is very unassuming- very old-time-BBC fashion and gives a comforting, and sometimes discomforting, sense of realism to the entire piece. <br /><br />The actors are extremely well chosen- Michael Sheen not only \"has got all the polari\" but he has all the voices down pat too! You can truly see the seamless editing guided by the references to Williams\\' diary entries, not only is it well worth the watching but it is a terrificly written and performed piece. A masterful production about one of the great master\\'s of comedy and his life. <br /><br />The realism really comes home with the little things: the fantasy of the guard which, rather than use the traditional \\'dream\\' techniques remains solid then disappears. It plays on our knowledge and our senses, particularly with the scenes concerning Orton and Halliwell and the sets (particularly of their flat with Halliwell\\'s murals decorating every surface) are terribly well done.'"
            ],
            "application/vnd.google.colaboratory.intrinsic+json": {
              "type": "string"
            }
          },
          "metadata": {},
          "execution_count": 13
        }
      ],
      "source": [
        "reviews[1]"
      ]
    },
    {
      "cell_type": "markdown",
      "metadata": {
        "id": "aM8EsQCzYn0X"
      },
      "source": [
        "Remove HTML tags"
      ]
    },
    {
      "cell_type": "code",
      "execution_count": null,
      "metadata": {
        "colab": {
          "base_uri": "https://localhost:8080/",
          "height": 1000
        },
        "id": "rsWzajWjECkj",
        "outputId": "c6302dba-2cd1-4935-d7ad-68a7457eaa5a"
      },
      "outputs": [
        {
          "output_type": "execute_result",
          "data": {
            "text/plain": [
              "'A wonderful little production. The filming technique is very unassuming- very old-time-BBC fashion and gives a comforting, and sometimes discomforting, sense of realism to the entire piece. The actors are extremely well chosen- Michael Sheen not only \"has got all the polari\" but he has all the voices down pat too! You can truly see the seamless editing guided by the references to Williams\\' diary entries, not only is it well worth the watching but it is a terrificly written and performed piece. A masterful production about one of the great master\\'s of comedy and his life. The realism really comes home with the little things: the fantasy of the guard which, rather than use the traditional \\'dream\\' techniques remains solid then disappears. It plays on our knowledge and our senses, particularly with the scenes concerning Orton and Halliwell and the sets (particularly of their flat with Halliwell\\'s murals decorating every surface) are terribly well done.'"
            ],
            "application/vnd.google.colaboratory.intrinsic+json": {
              "type": "string"
            }
          },
          "metadata": {},
          "execution_count": 14
        }
      ],
      "source": [
        "from bs4 import BeautifulSoup\n",
        "\n",
        "preprocessed_reviews = reviews.apply(\n",
        "    lambda text: BeautifulSoup(text, \"html.parser\").get_text()\n",
        ")\n",
        "# Check if the tags were removed from the sample we showed earlier.\n",
        "preprocessed_reviews[1]"
      ]
    },
    {
      "cell_type": "markdown",
      "metadata": {
        "id": "WI2jbGT7Yrll"
      },
      "source": [
        "Remove punctuation and special characters"
      ]
    },
    {
      "cell_type": "code",
      "execution_count": null,
      "metadata": {
        "id": "bMEJuzhEHRXi",
        "colab": {
          "base_uri": "https://localhost:8080/",
          "height": 1000
        },
        "outputId": "e9e5fb5e-7b1e-4f48-af18-67ea344db54e"
      },
      "outputs": [
        {
          "output_type": "execute_result",
          "data": {
            "text/plain": [
              "'A wonderful little production The filming technique is very unassuming  very old time BBC fashion and gives a comforting and sometimes discomforting sense of realism to the entire piece The actors are extremely well chosen  Michael Sheen not only has got all the polari but he has all the voices down pat too You can truly see the seamless editing guided by the references to Williams diary entries not only is it well worth the watching but it is a terrificly written and performed piece A masterful production about one of the great masters of comedy and his life The realism really comes home with the little things the fantasy of the guard which rather than use the traditional dream techniques remains solid then disappears It plays on our knowledge and our senses particularly with the scenes concerning Orton and Halliwell and the sets particularly of their flat with Halliwells murals decorating every surface are terribly well done'"
            ],
            "application/vnd.google.colaboratory.intrinsic+json": {
              "type": "string"
            }
          },
          "metadata": {},
          "execution_count": 15
        }
      ],
      "source": [
        "import string\n",
        "\n",
        "def remove_punctuation(text: str) -> str:\n",
        "    \"\"\" Removes punctiation characters from `text`. \"\"\"\n",
        "    # Create a dictionary that makes every punctation character to an empty string.\n",
        "    punctuation_map = {\n",
        "        ord(character): \"\" for character in string.punctuation\n",
        "    }\n",
        "    # Hyphens ('-') are replaced with a spaces rather than being removed,\n",
        "    # because that may result in some words getting stuck together.\n",
        "    # For example, \"short-term\" becomes \"shortterm\".\n",
        "    punctuation_map[ord('-')] = ' ' \n",
        "    # Apply the map on the given string.\n",
        "    return text.translate(punctuation_map)\n",
        "\n",
        "preprocessed_reviews = preprocessed_reviews.apply(remove_punctuation)\n",
        "preprocessed_reviews[1]"
      ]
    },
    {
      "cell_type": "markdown",
      "metadata": {
        "id": "bpmPvQhOYyKD"
      },
      "source": [
        "Convert all characters to lowercase"
      ]
    },
    {
      "cell_type": "code",
      "execution_count": null,
      "metadata": {
        "id": "S4Fj5_qsSZlU",
        "colab": {
          "base_uri": "https://localhost:8080/",
          "height": 1000
        },
        "outputId": "502e4042-d58d-438f-aa60-b4a843167e25"
      },
      "outputs": [
        {
          "output_type": "execute_result",
          "data": {
            "text/plain": [
              "'a wonderful little production the filming technique is very unassuming  very old time bbc fashion and gives a comforting and sometimes discomforting sense of realism to the entire piece the actors are extremely well chosen  michael sheen not only has got all the polari but he has all the voices down pat too you can truly see the seamless editing guided by the references to williams diary entries not only is it well worth the watching but it is a terrificly written and performed piece a masterful production about one of the great masters of comedy and his life the realism really comes home with the little things the fantasy of the guard which rather than use the traditional dream techniques remains solid then disappears it plays on our knowledge and our senses particularly with the scenes concerning orton and halliwell and the sets particularly of their flat with halliwells murals decorating every surface are terribly well done'"
            ],
            "application/vnd.google.colaboratory.intrinsic+json": {
              "type": "string"
            }
          },
          "metadata": {},
          "execution_count": 16
        }
      ],
      "source": [
        "preprocessed_reviews = preprocessed_reviews.apply(lambda text: text.lower())\n",
        "preprocessed_reviews[1]"
      ]
    },
    {
      "cell_type": "markdown",
      "metadata": {
        "id": "rgD1ekuMY-AA"
      },
      "source": [
        "Filter out the stop words for each review"
      ]
    },
    {
      "cell_type": "code",
      "execution_count": null,
      "metadata": {
        "colab": {
          "base_uri": "https://localhost:8080/"
        },
        "id": "V7T3AlQMUlOd",
        "outputId": "fbadd788-0a92-4abe-b7ea-8a6f821188e8"
      },
      "outputs": [
        {
          "output_type": "stream",
          "name": "stderr",
          "text": [
            "[nltk_data] Downloading package stopwords to /root/nltk_data...\n",
            "[nltk_data]   Unzipping corpora/stopwords.zip.\n"
          ]
        },
        {
          "output_type": "execute_result",
          "data": {
            "text/plain": [
              "['wonderful',\n",
              " 'little',\n",
              " 'production',\n",
              " 'filming',\n",
              " 'technique',\n",
              " 'unassuming',\n",
              " 'old',\n",
              " 'time',\n",
              " 'bbc',\n",
              " 'fashion',\n",
              " 'gives',\n",
              " 'comforting',\n",
              " 'sometimes',\n",
              " 'discomforting',\n",
              " 'sense',\n",
              " 'realism',\n",
              " 'entire',\n",
              " 'piece',\n",
              " 'actors',\n",
              " 'extremely',\n",
              " 'well',\n",
              " 'chosen',\n",
              " 'michael',\n",
              " 'sheen',\n",
              " 'got',\n",
              " 'polari',\n",
              " 'voices',\n",
              " 'pat',\n",
              " 'truly',\n",
              " 'see',\n",
              " 'seamless',\n",
              " 'editing',\n",
              " 'guided',\n",
              " 'references',\n",
              " 'williams',\n",
              " 'diary',\n",
              " 'entries',\n",
              " 'well',\n",
              " 'worth',\n",
              " 'watching',\n",
              " 'terrificly',\n",
              " 'written',\n",
              " 'performed',\n",
              " 'piece',\n",
              " 'masterful',\n",
              " 'production',\n",
              " 'one',\n",
              " 'great',\n",
              " 'masters',\n",
              " 'comedy',\n",
              " 'life',\n",
              " 'realism',\n",
              " 'really',\n",
              " 'comes',\n",
              " 'home',\n",
              " 'little',\n",
              " 'things',\n",
              " 'fantasy',\n",
              " 'guard',\n",
              " 'rather',\n",
              " 'use',\n",
              " 'traditional',\n",
              " 'dream',\n",
              " 'techniques',\n",
              " 'remains',\n",
              " 'solid',\n",
              " 'disappears',\n",
              " 'plays',\n",
              " 'knowledge',\n",
              " 'senses',\n",
              " 'particularly',\n",
              " 'scenes',\n",
              " 'concerning',\n",
              " 'orton',\n",
              " 'halliwell',\n",
              " 'sets',\n",
              " 'particularly',\n",
              " 'flat',\n",
              " 'halliwells',\n",
              " 'murals',\n",
              " 'decorating',\n",
              " 'every',\n",
              " 'surface',\n",
              " 'terribly',\n",
              " 'well',\n",
              " 'done']"
            ]
          },
          "metadata": {},
          "execution_count": 17
        }
      ],
      "source": [
        "import nltk\n",
        "\n",
        "# Download the required package.\n",
        "nltk.download(\"stopwords\")\n",
        "# Convert the English stopwords list to a set for faster `in` checks.\n",
        "english_stopwords = set(nltk.corpus.stopwords.words(\"english\"))\n",
        "\n",
        "def filter_out_stopwords(text: str) -> list:\n",
        "    # Split the text into a list of words.\n",
        "    words = text.split()\n",
        "    return [ word for word in words if word not in english_stopwords ]\n",
        "\n",
        "non_stopwords = preprocessed_reviews.apply(filter_out_stopwords)\n",
        "non_stopwords[1]"
      ]
    },
    {
      "cell_type": "markdown",
      "metadata": {
        "id": "v6fkptzjZmL7"
      },
      "source": [
        "Lemmatize the words extracted above"
      ]
    },
    {
      "cell_type": "code",
      "execution_count": null,
      "metadata": {
        "id": "Rc_Zvq2EZlE5",
        "colab": {
          "base_uri": "https://localhost:8080/"
        },
        "outputId": "80cc2245-4787-4255-eb82-94f964a1fc44"
      },
      "outputs": [
        {
          "output_type": "stream",
          "name": "stderr",
          "text": [
            "[nltk_data] Downloading package wordnet to /root/nltk_data...\n",
            "[nltk_data] Downloading package omw-1.4 to /root/nltk_data...\n"
          ]
        },
        {
          "output_type": "execute_result",
          "data": {
            "text/plain": [
              "['wonderful',\n",
              " 'little',\n",
              " 'production',\n",
              " 'filming',\n",
              " 'technique',\n",
              " 'unassuming',\n",
              " 'old',\n",
              " 'time',\n",
              " 'bbc',\n",
              " 'fashion',\n",
              " 'give',\n",
              " 'comforting',\n",
              " 'sometimes',\n",
              " 'discomforting',\n",
              " 'sense',\n",
              " 'realism',\n",
              " 'entire',\n",
              " 'piece',\n",
              " 'actor',\n",
              " 'extremely',\n",
              " 'well',\n",
              " 'chosen',\n",
              " 'michael',\n",
              " 'sheen',\n",
              " 'got',\n",
              " 'polari',\n",
              " 'voice',\n",
              " 'pat',\n",
              " 'truly',\n",
              " 'see',\n",
              " 'seamless',\n",
              " 'editing',\n",
              " 'guided',\n",
              " 'reference',\n",
              " 'williams',\n",
              " 'diary',\n",
              " 'entry',\n",
              " 'well',\n",
              " 'worth',\n",
              " 'watching',\n",
              " 'terrificly',\n",
              " 'written',\n",
              " 'performed',\n",
              " 'piece',\n",
              " 'masterful',\n",
              " 'production',\n",
              " 'one',\n",
              " 'great',\n",
              " 'master',\n",
              " 'comedy',\n",
              " 'life',\n",
              " 'realism',\n",
              " 'really',\n",
              " 'come',\n",
              " 'home',\n",
              " 'little',\n",
              " 'thing',\n",
              " 'fantasy',\n",
              " 'guard',\n",
              " 'rather',\n",
              " 'use',\n",
              " 'traditional',\n",
              " 'dream',\n",
              " 'technique',\n",
              " 'remains',\n",
              " 'solid',\n",
              " 'disappears',\n",
              " 'play',\n",
              " 'knowledge',\n",
              " 'sens',\n",
              " 'particularly',\n",
              " 'scene',\n",
              " 'concerning',\n",
              " 'orton',\n",
              " 'halliwell',\n",
              " 'set',\n",
              " 'particularly',\n",
              " 'flat',\n",
              " 'halliwells',\n",
              " 'mural',\n",
              " 'decorating',\n",
              " 'every',\n",
              " 'surface',\n",
              " 'terribly',\n",
              " 'well',\n",
              " 'done']"
            ]
          },
          "metadata": {},
          "execution_count": 18
        }
      ],
      "source": [
        "# Download the required packages.\n",
        "nltk.download(\"wordnet\")\n",
        "nltk.download(\"omw-1.4\")\n",
        "lemmatizer = nltk.stem.WordNetLemmatizer()\n",
        "\n",
        "# Lemmatize each word per for every review.\n",
        "lemmatized_words = non_stopwords.apply(\n",
        "    lambda words: [ lemmatizer.lemmatize(word) for word in words ]\n",
        ")\n",
        "lemmatized_words[1]"
      ]
    },
    {
      "cell_type": "markdown",
      "metadata": {
        "id": "huGFzcSNcvfa"
      },
      "source": [
        "Join the lemmatized words to form a sentence"
      ]
    },
    {
      "cell_type": "code",
      "execution_count": null,
      "metadata": {
        "id": "0vBnWQV-csiZ",
        "colab": {
          "base_uri": "https://localhost:8080/",
          "height": 1000
        },
        "outputId": "162fb12d-1c31-4990-badb-e915546d97c9"
      },
      "outputs": [
        {
          "output_type": "execute_result",
          "data": {
            "text/plain": [
              "'wonderful little production filming technique unassuming old time bbc fashion give comforting sometimes discomforting sense realism entire piece actor extremely well chosen michael sheen got polari voice pat truly see seamless editing guided reference williams diary entry well worth watching terrificly written performed piece masterful production one great master comedy life realism really come home little thing fantasy guard rather use traditional dream technique remains solid disappears play knowledge sens particularly scene concerning orton halliwell set particularly flat halliwells mural decorating every surface terribly well done'"
            ],
            "application/vnd.google.colaboratory.intrinsic+json": {
              "type": "string"
            }
          },
          "metadata": {},
          "execution_count": 19
        }
      ],
      "source": [
        "preprocessed_reviews = lemmatized_words.apply(\n",
        "    # Join each word in the list to a single string separated by spaces.\n",
        "    lambda words: ' '.join(words)\n",
        ")\n",
        "preprocessed_reviews[1]"
      ]
    },
    {
      "cell_type": "code",
      "source": [
        "# Rename it to distinguish it from the raw reviews.\n",
        "preprocessed_reviews.name = \"preprocessed_reviews\""
      ],
      "metadata": {
        "id": "huVHLxeHyjgp"
      },
      "execution_count": null,
      "outputs": []
    },
    {
      "cell_type": "markdown",
      "source": [
        "# **Common Helpers**"
      ],
      "metadata": {
        "id": "QhVDWTeCl2mx"
      }
    },
    {
      "cell_type": "code",
      "source": [
        "import tensorflow as tf\n",
        "import numpy as np\n",
        "import pandas as pd\n",
        "import sklearn.model_selection\n",
        "from livelossplot import PlotLossesKeras"
      ],
      "metadata": {
        "id": "oIkqs-6VofXI"
      },
      "execution_count": null,
      "outputs": []
    },
    {
      "cell_type": "code",
      "source": [
        "def train_test_split(data, labels):\n",
        "    \"\"\"\n",
        "    Randomizes and splits the the given data into\n",
        "    two datasets, 80% training and 20% test.\n",
        "\n",
        "    Returns the data as a tuple ordered as follows:\n",
        "    train, test, train_labels, test_labels\n",
        "    \"\"\"\n",
        "    return sklearn.model_selection.train_test_split(\n",
        "        data,\n",
        "        labels,\n",
        "        test_size=0.2,\n",
        "        # Specify the seed to get the same shuffling across different runs.\n",
        "        # This is important for training across different runs to prevent\n",
        "        # testing using data the model trained on previously.\n",
        "        random_state=1\n",
        "    )\n",
        "\n",
        "# The training data forms 80% of the total data.\n",
        "# We wants 10% of the total data to be used for validation,\n",
        "# so we use 12.5% of the train data for validation.\n",
        "# 12.5% x 80% = 10%\n",
        "VALIDATION_SPLIT = 0.125"
      ],
      "metadata": {
        "id": "4qARh-K8saFM"
      },
      "execution_count": null,
      "outputs": []
    },
    {
      "cell_type": "code",
      "source": [
        "def get_predictions(output):\n",
        "    \"\"\"\n",
        "    Returns the labels predicted by the model.\n",
        "\n",
        "    Parameters:\n",
        "    -----------\n",
        "    output: The output returned from `model.predict()`.\n",
        "    \"\"\"\n",
        "    # Values greater than 0.5 are assigned the label 1;\n",
        "    # otherwise, they are assigned the label 0.\n",
        "    return np.where(output > 0.5, 1, 0).flatten()"
      ],
      "metadata": {
        "id": "06fHYnPgl6Ct"
      },
      "execution_count": null,
      "outputs": []
    },
    {
      "cell_type": "code",
      "source": [
        "def get_confusion_matrix(labels, predictions) -> pd.DataFrame:\n",
        "    \"\"\"\n",
        "    Returns the confusion matrix of a model as a DataFrame.\n",
        "    \n",
        "    Parameters:\n",
        "    -----------\n",
        "    labels: The true labels.\n",
        "    predictions: The labels predicted by the model.\n",
        "    \"\"\"\n",
        "    matrix = tf.math.confusion_matrix(\n",
        "        labels=labels,\n",
        "        predictions=predictions,\n",
        "        num_classes=2,\n",
        "    )\n",
        "    # Replace the indices of the row and column with the class names.\n",
        "    label_names = ['negative', 'positive']\n",
        "    return pd.DataFrame(matrix.numpy(),\n",
        "                        columns=label_names,\n",
        "                        index=label_names)"
      ],
      "metadata": {
        "id": "HODnK2W1pa5S"
      },
      "execution_count": null,
      "outputs": []
    },
    {
      "cell_type": "code",
      "source": [
        "def compute_metrics(confusion_matrix: pd.DataFrame) -> pd.DataFrame:\n",
        "    \"\"\"\n",
        "    Returns the accuracy, precision, recall, specificity, and F-score.\n",
        "    \n",
        "    Parameters:\n",
        "    -----------\n",
        "    confusion_matrix: The confusion matrix of the model.\n",
        "    \"\"\"\n",
        "    true_positives = confusion_matrix.loc[\"positive\"][\"positive\"]\n",
        "    false_positives = confusion_matrix.loc[\"positive\"][\"negative\"]\n",
        "\n",
        "    true_negatives = confusion_matrix.loc[\"negative\"][\"negative\"]\n",
        "    false_negatives = confusion_matrix.loc[\"negative\"][\"positive\"]\n",
        "\n",
        "    precision = true_positives / (true_positives + false_positives)\n",
        "    recall = true_positives / (true_positives + false_negatives)\n",
        "\n",
        "    # Add along each column, then add along the returned row.\n",
        "    total = confusion_matrix.sum().sum()\n",
        "\n",
        "    return pd.Series({\n",
        "        \"Accuracy\": (true_positives + true_negatives) / total,\n",
        "        \"Precision\": precision,\n",
        "        \"Recall\": recall,\n",
        "        \"Specificity\": true_negatives / (true_negatives + false_positives),\n",
        "        \"F-score\": 2 * precision * recall / (precision + recall)\n",
        "    })"
      ],
      "metadata": {
        "id": "epgBPgZ8quNf"
      },
      "execution_count": null,
      "outputs": []
    },
    {
      "cell_type": "markdown",
      "metadata": {
        "id": "4VQsRRVU2Ljw"
      },
      "source": [
        "# **BERT Model**"
      ]
    },
    {
      "cell_type": "code",
      "source": [
        "import tensorflow_hub as hub\n",
        "# This module is not used, but is needed for the\n",
        "# Bert layers to load. Do not remove this import!\n",
        "import tensorflow_text\n",
        "from keras.layers import Dense, Input, Dropout"
      ],
      "metadata": {
        "id": "aC59z9pTGYV9"
      },
      "execution_count": null,
      "outputs": []
    },
    {
      "cell_type": "markdown",
      "source": [
        "Define the model's architecture"
      ],
      "metadata": {
        "id": "_GYRKEAZb7oe"
      }
    },
    {
      "cell_type": "code",
      "source": [
        "class BertClassifier(tf.keras.Model):\n",
        "    def __init__(self, train_bert_layer: bool, hidden_layers, dropout: float):\n",
        "        # The model receives a text input.\n",
        "        input = Input(shape=(), dtype=tf.string, name=\"input\")\n",
        "\n",
        "        # Load the preprocessor layer from TensorflowHub for encoding text into tokens.\n",
        "        preprocessor_url = \"https://tfhub.dev/tensorflow/bert_en_uncased_preprocess/3\"\n",
        "        output = hub.KerasLayer(preprocessor_url, name=\"preprocessor\")(input)\n",
        "\n",
        "        # Load the BERT encoder layer from TensorflowHub.\n",
        "        encoder_url = \"https://tfhub.dev/tensorflow/bert_en_uncased_L-12_H-768_A-12/4\"\n",
        "        output = hub.KerasLayer(encoder_url, trainable=train_bert_layer, name=\"encoder\")(output)\n",
        "\n",
        "        # Output shape is (batch_size, 768).\n",
        "        output = output[\"pooled_output\"]\n",
        "        \n",
        "        # Add the given hidden layers.\n",
        "        for layer_size in hidden_layers:\n",
        "            output = Dense(layer_size, activation=\"relu\", name=f\"dense-{layer_size}\")(output)\n",
        "\n",
        "        # Add a dropout layer with the given dropout chance.\n",
        "        output = Dropout(dropout, name=f\"dropout-{dropout}\")(output)\n",
        "\n",
        "        # Add the output layer with a single sigmoid unit.\n",
        "        # Its value represents the label 0 if it's between 0 and 0.5;\n",
        "        # otherwise, it represents the label 1 otherwise.\n",
        "        output = Dense(1, activation=\"sigmoid\", name=\"output\")(output)\n",
        "        super().__init__(input, output)"
      ],
      "metadata": {
        "id": "fzjSCMNYanG9"
      },
      "execution_count": null,
      "outputs": []
    },
    {
      "cell_type": "markdown",
      "source": [
        "## Using Preprocessed Text"
      ],
      "metadata": {
        "id": "WFmp4W6h1G4U"
      }
    },
    {
      "cell_type": "markdown",
      "source": [
        "### Setup"
      ],
      "metadata": {
        "id": "SyaP6Lpw_e_i"
      }
    },
    {
      "cell_type": "code",
      "source": [
        "bert_model = BertClassifier(train_bert_layer=False,\n",
        "                            hidden_layers=[512, 256, 128, 64, 32],\n",
        "                            dropout=0.5)"
      ],
      "metadata": {
        "id": "043IHYY1rZ3D"
      },
      "execution_count": null,
      "outputs": []
    },
    {
      "cell_type": "code",
      "source": [
        "bert_model.summary()"
      ],
      "metadata": {
        "id": "E529Z9T6_jX7"
      },
      "execution_count": null,
      "outputs": []
    },
    {
      "cell_type": "code",
      "source": [
        "tf.keras.utils.plot_model(bert_model)"
      ],
      "metadata": {
        "id": "H0bpUfFoZok_"
      },
      "execution_count": null,
      "outputs": []
    },
    {
      "cell_type": "code",
      "source": [
        "train, test, train_labels, test_labels = train_test_split(\n",
        "    preprocessed_reviews,\n",
        "    labels\n",
        ")"
      ],
      "metadata": {
        "id": "lYmFFsVzaz69"
      },
      "execution_count": null,
      "outputs": []
    },
    {
      "cell_type": "markdown",
      "source": [
        "### Training"
      ],
      "metadata": {
        "id": "UlKbVN56Ya2J"
      }
    },
    {
      "cell_type": "markdown",
      "metadata": {
        "id": "SqPONLvY2ajC"
      },
      "source": [
        "Split the data into 80% train/validation and 20% test"
      ]
    },
    {
      "cell_type": "code",
      "source": [
        "train"
      ],
      "metadata": {
        "id": "CLS3wXEiycQ0"
      },
      "execution_count": null,
      "outputs": []
    },
    {
      "cell_type": "markdown",
      "source": [
        "Choose the batch size, optimizer, etc."
      ],
      "metadata": {
        "id": "-FkwZRxO7fEe"
      }
    },
    {
      "cell_type": "code",
      "source": [
        "from official.nlp import optimization  # to create AdamW optimizer\n",
        "import numpy as np\n",
        "\n",
        "epochs = 25\n",
        "batch_size = 32\n",
        "\n",
        "train_size = (1 - VALIDATION_SPLIT) * train.size\n",
        "steps_per_epoch = int(np.ceil(train_size / batch_size))\n",
        "num_train_steps = steps_per_epoch * epochs\n",
        "num_warmup_steps = int(0.1 * num_train_steps)\n",
        "\n",
        "optimizer = optimization.create_optimizer(\n",
        "    init_lr=3e-5,\n",
        "    num_train_steps=num_train_steps,\n",
        "    num_warmup_steps=num_warmup_steps,\n",
        "    optimizer_type=\"adamw\"\n",
        ")\n",
        "\n",
        "bert_model.compile(\n",
        "    optimizer=optimizer,\n",
        "    loss=\"binary_crossentropy\",\n",
        "    metrics=\"binary_accuracy\"\n",
        ")"
      ],
      "metadata": {
        "id": "1_YcpOzE1Fv-"
      },
      "execution_count": null,
      "outputs": []
    },
    {
      "cell_type": "markdown",
      "source": [
        "Add callbacks to be performed after each epoch"
      ],
      "metadata": {
        "id": "v5_vyS437lWS"
      }
    },
    {
      "cell_type": "code",
      "source": [
        "# Stop training early if, after 5 epochs, validation loss doesn't decrease.\n",
        "stop_early = tf.keras.callbacks.EarlyStopping(\n",
        "    patience=5,\n",
        "    restore_best_weights=True\n",
        ")"
      ],
      "metadata": {
        "id": "SYRWuzTliYFy"
      },
      "execution_count": null,
      "outputs": []
    },
    {
      "cell_type": "code",
      "source": [
        "# Save the best weights so far after each epoch.\n",
        "bert_checkpoint_path = \"./drive/MyDrive/Checkpoints/bert1\"\n",
        "save_weights = tf.keras.callbacks.ModelCheckpoint(\n",
        "    bert_checkpoint_path,\n",
        "    save_best_only=True,\n",
        "    save_weights_only=True\n",
        ")"
      ],
      "metadata": {
        "id": "qJrkImX8kj53"
      },
      "execution_count": null,
      "outputs": []
    },
    {
      "cell_type": "code",
      "source": [
        "# Plot the accuracy and loss live during training.\n",
        "callbacks = [stop_early, save_weights, PlotLossesKeras()]"
      ],
      "metadata": {
        "id": "XL1VoN_QlVbR"
      },
      "execution_count": null,
      "outputs": []
    },
    {
      "cell_type": "markdown",
      "source": [
        "Load previously-saved weights, if any."
      ],
      "metadata": {
        "id": "ssNVDFmCkr1A"
      }
    },
    {
      "cell_type": "code",
      "source": [
        "bert_model.load_weights(bert_checkpoint_path)"
      ],
      "metadata": {
        "id": "_fcq31L7t6L9"
      },
      "execution_count": null,
      "outputs": []
    },
    {
      "cell_type": "markdown",
      "source": [
        "Start the actual training process"
      ],
      "metadata": {
        "id": "T-ZXKRMIlAEs"
      }
    },
    {
      "cell_type": "code",
      "source": [
        "bert_model.fit(\n",
        "    train,\n",
        "    train_labels,\n",
        "    batch_size=batch_size,\n",
        "    epochs=epochs,\n",
        "    steps_per_epoch=steps_per_epoch,\n",
        "    validation_split=VALIDATION_SPLIT,\n",
        "    callbacks=callbacks\n",
        ")"
      ],
      "metadata": {
        "id": "tnHtJCUOhAPo"
      },
      "execution_count": null,
      "outputs": []
    },
    {
      "cell_type": "markdown",
      "source": [
        "### Testing"
      ],
      "metadata": {
        "id": "vmv8uWm0e-5U"
      }
    },
    {
      "cell_type": "code",
      "source": [
        "test"
      ],
      "metadata": {
        "id": "ZbqAGjPnyd4l"
      },
      "execution_count": null,
      "outputs": []
    },
    {
      "cell_type": "code",
      "source": [
        "bert_model.evaluate(test, test_labels)"
      ],
      "metadata": {
        "id": "BtvqqoVAe7v_"
      },
      "execution_count": null,
      "outputs": []
    },
    {
      "cell_type": "code",
      "source": [
        "output = bert_model.predict(test)\n",
        "output"
      ],
      "metadata": {
        "id": "zY71rnKSmhUo"
      },
      "execution_count": null,
      "outputs": []
    },
    {
      "cell_type": "code",
      "source": [
        "predictions = get_predictions(output)\n",
        "predictions"
      ],
      "metadata": {
        "id": "bqAOM7KGtJ2Z"
      },
      "execution_count": null,
      "outputs": []
    },
    {
      "cell_type": "code",
      "source": [
        "confusion_matrix = get_confusion_matrix(test_labels, predictions)\n",
        "confusion_matrix"
      ],
      "metadata": {
        "id": "PyAhYLIZtPI1"
      },
      "execution_count": null,
      "outputs": []
    },
    {
      "cell_type": "code",
      "source": [
        "compute_metrics(confusion_matrix)"
      ],
      "metadata": {
        "id": "pv8iO4lZwlhO"
      },
      "execution_count": null,
      "outputs": []
    },
    {
      "cell_type": "markdown",
      "source": [
        "## Using Raw Text"
      ],
      "metadata": {
        "id": "cCmR51ZBlx8X"
      }
    },
    {
      "cell_type": "markdown",
      "source": [
        "### Setup"
      ],
      "metadata": {
        "id": "nKOppFxjFnzA"
      }
    },
    {
      "cell_type": "code",
      "source": [
        "bert_raw_model = BertClassifier(train_bert_layer=False,\n",
        "                                hidden_layers=[512, 256, 128, 64, 32],\n",
        "                                dropout=0.5)"
      ],
      "metadata": {
        "id": "uexL6uYeFqxo"
      },
      "execution_count": null,
      "outputs": []
    },
    {
      "cell_type": "code",
      "source": [
        "bert_raw_model.summary()"
      ],
      "metadata": {
        "id": "TEs0tpsVl1PM"
      },
      "execution_count": null,
      "outputs": []
    },
    {
      "cell_type": "code",
      "source": [
        "tf.keras.utils.plot_model(bert_raw_model)"
      ],
      "metadata": {
        "id": "V6vcVzqyl1PO"
      },
      "execution_count": null,
      "outputs": []
    },
    {
      "cell_type": "code",
      "source": [
        "train, test, train_labels, test_labels = train_test_split(\n",
        "    reviews,\n",
        "    labels,\n",
        "    test_size=0.2,\n",
        "    # Specify the seed to get the same shuffling across different runs.\n",
        "    # This is important for training across different runs to prevent\n",
        "    # testing using data the model trained on previously.\n",
        "    random_state=1\n",
        ")"
      ],
      "metadata": {
        "id": "42CP7kNll1PR"
      },
      "execution_count": null,
      "outputs": []
    },
    {
      "cell_type": "markdown",
      "source": [
        "### Training"
      ],
      "metadata": {
        "id": "BY_NfTaGl1PP"
      }
    },
    {
      "cell_type": "markdown",
      "metadata": {
        "id": "Uha1g2Nxl1PQ"
      },
      "source": [
        "Split the data into 80% train/validation and 20% test"
      ]
    },
    {
      "cell_type": "code",
      "source": [
        "train"
      ],
      "metadata": {
        "id": "KXgp0886l1PR"
      },
      "execution_count": null,
      "outputs": []
    },
    {
      "cell_type": "markdown",
      "source": [
        "Choose the batch size, optimizer, etc."
      ],
      "metadata": {
        "id": "rTzA3nXvl1PT"
      }
    },
    {
      "cell_type": "code",
      "source": [
        "from official.nlp import optimization  # to create AdamW optimizer\n",
        "import numpy as np\n",
        "\n",
        "epochs = 25\n",
        "batch_size = 32\n",
        "# The training data forms 80% of the total data.\n",
        "# We wants 10% of the total data to be used for validation,\n",
        "# so we use 12.5% of the train data for validation.\n",
        "# 12.5% x 80% = 10%\n",
        "validation_split = 0.125\n",
        "\n",
        "train_size = (1 - VALIDATION_SPLIT) * train.size\n",
        "steps_per_epoch = int(np.ceil(train_size / batch_size))\n",
        "num_train_steps = steps_per_epoch * epochs\n",
        "num_warmup_steps = int(0.1 * num_train_steps)\n",
        "\n",
        "optimizer = optimization.create_optimizer(\n",
        "    init_lr=3e-5,\n",
        "    num_train_steps=num_train_steps,\n",
        "    num_warmup_steps=num_warmup_steps,\n",
        "    optimizer_type=\"adamw\"\n",
        ")\n",
        "\n",
        "bert_raw_model.compile(\n",
        "    optimizer=optimizer,\n",
        "    loss=\"binary_crossentropy\",\n",
        "    metrics=\"binary_accuracy\"\n",
        ")"
      ],
      "metadata": {
        "id": "-Fb714f1l1PU"
      },
      "execution_count": null,
      "outputs": []
    },
    {
      "cell_type": "markdown",
      "source": [
        "Add callbacks to be performed after each epoch"
      ],
      "metadata": {
        "id": "XGlth9V1l1PU"
      }
    },
    {
      "cell_type": "code",
      "source": [
        "# Stop training early if, after 5 epochs, validation loss doesn't decrease.\n",
        "stop_early = tf.keras.callbacks.EarlyStopping(\n",
        "    patience=5,\n",
        "    restore_best_weights=True\n",
        ")"
      ],
      "metadata": {
        "id": "UJHtmVLkl1PU"
      },
      "execution_count": null,
      "outputs": []
    },
    {
      "cell_type": "code",
      "source": [
        "# Save the best weights so far after each epoch.\n",
        "bert_checkpoint_path = \"./drive/MyDrive/Checkpoints/bert2\"\n",
        "save_weights = tf.keras.callbacks.ModelCheckpoint(\n",
        "    bert_checkpoint_path,\n",
        "    save_best_only=True,\n",
        "    save_weights_only=True\n",
        ")"
      ],
      "metadata": {
        "id": "s2CDg2x_l1PV"
      },
      "execution_count": null,
      "outputs": []
    },
    {
      "cell_type": "code",
      "source": [
        "# Plot the accuracy and loss live during training.\n",
        "callbacks = [stop_early, save_weights, PlotLossesKeras()]"
      ],
      "metadata": {
        "id": "oLtpITadl1PV"
      },
      "execution_count": null,
      "outputs": []
    },
    {
      "cell_type": "markdown",
      "source": [
        "Load previously-saved weights, if any."
      ],
      "metadata": {
        "id": "RXWF3J66l1PV"
      }
    },
    {
      "cell_type": "code",
      "source": [
        "bert_raw_model.load_weights(bert_checkpoint_path)"
      ],
      "metadata": {
        "id": "UK5VPktcl1PW"
      },
      "execution_count": null,
      "outputs": []
    },
    {
      "cell_type": "markdown",
      "source": [
        "Start the actual training process"
      ],
      "metadata": {
        "id": "juPyMtNcl1PW"
      }
    },
    {
      "cell_type": "code",
      "source": [
        "bert_raw_model.fit(\n",
        "    train,\n",
        "    train_labels,\n",
        "    batch_size=batch_size,\n",
        "    epochs=epochs,\n",
        "    steps_per_epoch=steps_per_epoch,\n",
        "    validation_split=VALIDATION_SPLIT,\n",
        "    callbacks=callbacks\n",
        ")"
      ],
      "metadata": {
        "id": "RVUT2PFil1PW"
      },
      "execution_count": null,
      "outputs": []
    },
    {
      "cell_type": "markdown",
      "source": [
        "### Testing"
      ],
      "metadata": {
        "id": "lGPspziul1PW"
      }
    },
    {
      "cell_type": "code",
      "source": [
        "test"
      ],
      "metadata": {
        "id": "N-SLjGgEl1PS"
      },
      "execution_count": null,
      "outputs": []
    },
    {
      "cell_type": "code",
      "source": [
        "bert_raw_model.evaluate(test, test_labels)"
      ],
      "metadata": {
        "id": "YVYctJzql1PX"
      },
      "execution_count": null,
      "outputs": []
    },
    {
      "cell_type": "code",
      "source": [
        "output = bert_raw_model.predict(test)\n",
        "output"
      ],
      "metadata": {
        "id": "LGZdbnFMl1PX"
      },
      "execution_count": null,
      "outputs": []
    },
    {
      "cell_type": "code",
      "source": [
        "predictions = get_predictions(output)\n",
        "predictions"
      ],
      "metadata": {
        "id": "T2qcEW1Wl1PY"
      },
      "execution_count": null,
      "outputs": []
    },
    {
      "cell_type": "code",
      "source": [
        "confusion_matrix = get_confusion_matrix(test_labels, predictions)\n",
        "confusion_matrix"
      ],
      "metadata": {
        "id": "yBu7HFfJl1PY"
      },
      "execution_count": null,
      "outputs": []
    },
    {
      "cell_type": "code",
      "source": [
        "compute_metrics(confusion_matrix)"
      ],
      "metadata": {
        "id": "Oexa_-_nl1PY"
      },
      "execution_count": null,
      "outputs": []
    },
    {
      "cell_type": "markdown",
      "source": [
        "# **RoBERTa Model**"
      ],
      "metadata": {
        "id": "BSoU7JjvoTxq"
      }
    },
    {
      "cell_type": "code",
      "source": [
        "from transformers import RobertaTokenizer, TFRobertaModel\n",
        "from keras.layers import Dense, Dropout, Input"
      ],
      "metadata": {
        "id": "soG84mix74zV"
      },
      "execution_count": null,
      "outputs": []
    },
    {
      "cell_type": "markdown",
      "source": [
        "Define the tokenizer for tokenizing reviews"
      ],
      "metadata": {
        "id": "CTXv2GEtjwub"
      }
    },
    {
      "cell_type": "code",
      "source": [
        "tokenizer = RobertaTokenizer.from_pretrained(\"roberta-base\")\n",
        "\n",
        "def tokenize(texts):\n",
        "    return dict(                    # - It is necessary to convert the output of the tokenizer\n",
        "        tokenizer(                  #   to a dictionary to use it in model.fit().\n",
        "            list(texts),            # - The tokenizer accepts a string or a list of string.\n",
        "            padding='max_length',   # - Apply padding and truncation so that all text has\n",
        "            truncation=True,        #   a length of `max_length`, which is 512 in this case.\n",
        "            return_tensors='tf'     # - Return tensorflow tensors instead of pytorch.\n",
        "        )\n",
        "    )"
      ],
      "metadata": {
        "id": "T3s1VrhrjkxC",
        "colab": {
          "base_uri": "https://localhost:8080/",
          "height": 113,
          "referenced_widgets": [
            "51d60932b40e44b5bb36c14cf86c8a16",
            "f728f63a75c1454bac9fb17c4af297f4",
            "8abb5d8025114832a8d85e06b2d992f5",
            "85c945f1520c4358952fdf52232547f7",
            "de09ecdc1167480f8df718f46777b3d3",
            "fc32c0b7acbe4f7aae919e2a3f4c17fc",
            "ac0fdc149cf7415c95e1badd64bb2f5a",
            "476f3d50f4c044c1890b0dde326f2f96",
            "48692f2f248f4913a88bcc0356bdd25d",
            "4c70ff7fdcad4b1698f6a548ee2bad44",
            "7e12d12a970847aba8405334a3d53424",
            "b7b90b0d83a246ceb36dd2af0b8b34c2",
            "8bd9284cd3434f4796ababa74b0f2718",
            "387f6a0e05d9480395f3b3c2e195a8e2",
            "a113cce3047e480db550b731872db2b0",
            "6943d591540e445996b8d135fdb6edb2",
            "a6089f4c4c694244b9c9bf152e2ed6e6",
            "13d90e131d854703b481d83211d02016",
            "fd9beedd63e44685abdbc2215fe9df86",
            "611474944df9454792e97c1034c3dcb6",
            "c084080c81b7433aaf8ea5c8000769a8",
            "8e1a2ecdf6c54529872026a6e5db557b",
            "5452da721e014ce5a05b975bed66cc1d",
            "5776f51abde2424eabced804a06a912f",
            "fcf1d0d737994d8e8e58d3952552bac8",
            "000d42b1e0a54e1688a2bf26959fa1e6",
            "8fa6df7e097b4017ba7d0f994d5e3cd4",
            "9bad3569bef54cfb85010284732e4675",
            "64a6ddf5ddc24567a9c92a3017e103b9",
            "d720a5fd67f94494aaa6a019bcba81db",
            "f3624499addf436eba6ec81e6e366387",
            "81542b8cd97d448995736a559a853d1c",
            "e70311b0fdb24e539c45978a562dc6e1"
          ]
        },
        "outputId": "14c2a6bb-4501-47f9-9c96-fc09c0f5e237"
      },
      "execution_count": null,
      "outputs": [
        {
          "output_type": "display_data",
          "data": {
            "text/plain": [
              "Downloading:   0%|          | 0.00/899k [00:00<?, ?B/s]"
            ],
            "application/vnd.jupyter.widget-view+json": {
              "version_major": 2,
              "version_minor": 0,
              "model_id": "51d60932b40e44b5bb36c14cf86c8a16"
            }
          },
          "metadata": {}
        },
        {
          "output_type": "display_data",
          "data": {
            "text/plain": [
              "Downloading:   0%|          | 0.00/456k [00:00<?, ?B/s]"
            ],
            "application/vnd.jupyter.widget-view+json": {
              "version_major": 2,
              "version_minor": 0,
              "model_id": "b7b90b0d83a246ceb36dd2af0b8b34c2"
            }
          },
          "metadata": {}
        },
        {
          "output_type": "display_data",
          "data": {
            "text/plain": [
              "Downloading:   0%|          | 0.00/481 [00:00<?, ?B/s]"
            ],
            "application/vnd.jupyter.widget-view+json": {
              "version_major": 2,
              "version_minor": 0,
              "model_id": "5452da721e014ce5a05b975bed66cc1d"
            }
          },
          "metadata": {}
        }
      ]
    },
    {
      "cell_type": "markdown",
      "source": [
        "Define the model's architecture"
      ],
      "metadata": {
        "id": "I31zQhXNKeXA"
      }
    },
    {
      "cell_type": "code",
      "source": [
        "class RobertaModel(tf.keras.Model):\n",
        "\n",
        "    def __init__(self, hidden_layers: list, dropout: float):\n",
        "        inputs = [\n",
        "            # The tokenizer outputs a dictionary with two keys,\n",
        "            # input ids which contain the tokens, and attention masks for\n",
        "            # determining if a token is a CLS or pad token.# We must name\n",
        "            # the input layers with the same as the dictionary's keys to\n",
        "            # be able to use the dictionary as input.\n",
        "            Input(shape=(512,), dtype=tf.int32, name=\"input_ids\"),\n",
        "            Input(shape=(512,), dtype=tf.int32, name=\"attention_mask\")\n",
        "        ]\n",
        "        output = TFRobertaModel.from_pretrained(\"roberta-base\", name=\"roberta\")(inputs)\n",
        "\n",
        "        # Pooler output's shape is (batch size, 768).\n",
        "        output = output.pooler_output\n",
        "\n",
        "        # Pass the pooler's output to hidden layers.\n",
        "        for layer in hidden_layers:\n",
        "            output = Dense(layer, activation=\"relu\", name=f\"dense-{layer}\")(output)\n",
        "        \n",
        "        # Add a dropout layer before the classifier to reduce overfitting.\n",
        "        output = Dropout(dropout, name=f\"dropout-{dropout}\")(output)\n",
        "\n",
        "        # Finally, a binary classifier layer using sigmoid activation.\n",
        "        output = Dense(1, activation=\"sigmoid\", name=\"output\")(output)\n",
        "\n",
        "        super().__init__(inputs=inputs, outputs=output)"
      ],
      "metadata": {
        "id": "O2y6FlbNZWko"
      },
      "execution_count": null,
      "outputs": []
    },
    {
      "cell_type": "markdown",
      "source": [
        "## Using Preprocessed Text"
      ],
      "metadata": {
        "id": "xkYrxLuXtqNg"
      }
    },
    {
      "cell_type": "markdown",
      "source": [
        "### Setup"
      ],
      "metadata": {
        "id": "I-jHAWUc_F8v"
      }
    },
    {
      "cell_type": "code",
      "source": [
        "roberta = RobertaModel(\n",
        "    hidden_layers=[512, 256, 128, 64],\n",
        "    dropout=0.5,\n",
        ")"
      ],
      "metadata": {
        "colab": {
          "base_uri": "https://localhost:8080/"
        },
        "id": "dqKwcyE7aqHQ",
        "outputId": "27332bc7-be29-4d54-b761-f399db964436"
      },
      "execution_count": null,
      "outputs": [
        {
          "output_type": "stream",
          "name": "stderr",
          "text": [
            "Some layers from the model checkpoint at roberta-base were not used when initializing TFRobertaModel: ['lm_head']\n",
            "- This IS expected if you are initializing TFRobertaModel from the checkpoint of a model trained on another task or with another architecture (e.g. initializing a BertForSequenceClassification model from a BertForPreTraining model).\n",
            "- This IS NOT expected if you are initializing TFRobertaModel from the checkpoint of a model that you expect to be exactly identical (initializing a BertForSequenceClassification model from a BertForSequenceClassification model).\n",
            "All the layers of TFRobertaModel were initialized from the model checkpoint at roberta-base.\n",
            "If your task is similar to the task the model of the checkpoint was trained on, you can already use TFRobertaModel for predictions without further training.\n"
          ]
        }
      ]
    },
    {
      "cell_type": "code",
      "source": [
        "roberta.summary()"
      ],
      "metadata": {
        "colab": {
          "base_uri": "https://localhost:8080/"
        },
        "id": "X9PTJVJr6lgY",
        "outputId": "e5685d0e-5ef8-47c0-d3fb-a130c1847cd8"
      },
      "execution_count": null,
      "outputs": [
        {
          "output_type": "stream",
          "name": "stdout",
          "text": [
            "Model: \"roberta_model\"\n",
            "__________________________________________________________________________________________________\n",
            " Layer (type)                   Output Shape         Param #     Connected to                     \n",
            "==================================================================================================\n",
            " input_ids (InputLayer)         [(None, 512)]        0           []                               \n",
            "                                                                                                  \n",
            " attention_mask (InputLayer)    [(None, 512)]        0           []                               \n",
            "                                                                                                  \n",
            " roberta (TFRobertaModel)       TFBaseModelOutputWi  124645632   ['input_ids[0][0]',              \n",
            "                                thPoolingAndCrossAt               'attention_mask[0][0]']         \n",
            "                                tentions(last_hidde                                               \n",
            "                                n_state=(None, 512,                                               \n",
            "                                 768),                                                            \n",
            "                                 pooler_output=(Non                                               \n",
            "                                e, 768),                                                          \n",
            "                                 past_key_values=No                                               \n",
            "                                ne, hidden_states=N                                               \n",
            "                                one, attentions=Non                                               \n",
            "                                e, cross_attentions                                               \n",
            "                                =None)                                                            \n",
            "                                                                                                  \n",
            " dense-512 (Dense)              (None, 512)          393728      ['roberta[0][1]']                \n",
            "                                                                                                  \n",
            " dense-256 (Dense)              (None, 256)          131328      ['dense-512[0][0]']              \n",
            "                                                                                                  \n",
            " dense-128 (Dense)              (None, 128)          32896       ['dense-256[0][0]']              \n",
            "                                                                                                  \n",
            " dense-64 (Dense)               (None, 64)           8256        ['dense-128[0][0]']              \n",
            "                                                                                                  \n",
            " dropout-0.5 (Dropout)          (None, 64)           0           ['dense-64[0][0]']               \n",
            "                                                                                                  \n",
            " output (Dense)                 (None, 1)            65          ['dropout-0.5[0][0]']            \n",
            "                                                                                                  \n",
            "==================================================================================================\n",
            "Total params: 125,211,905\n",
            "Trainable params: 125,211,905\n",
            "Non-trainable params: 0\n",
            "__________________________________________________________________________________________________\n"
          ]
        }
      ]
    },
    {
      "cell_type": "code",
      "source": [
        "tf.keras.utils.plot_model(roberta)"
      ],
      "metadata": {
        "colab": {
          "base_uri": "https://localhost:8080/",
          "height": 758
        },
        "id": "C4cj0HJ47A1Y",
        "outputId": "82557fe6-ee50-4b9b-93d9-bc018a0efb37"
      },
      "execution_count": null,
      "outputs": [
        {
          "output_type": "execute_result",
          "data": {
            "image/png": "[encoded data removed]",
            "text/plain": [
              "<IPython.core.display.Image object>"
            ]
          },
          "metadata": {},
          "execution_count": 32
        }
      ]
    },
    {
      "cell_type": "code",
      "source": [
        "train, test, train_labels, test_labels = train_test_split(\n",
        "    preprocessed_reviews,\n",
        "    labels\n",
        ")"
      ],
      "metadata": {
        "id": "vukunQUWhSDM"
      },
      "execution_count": null,
      "outputs": []
    },
    {
      "cell_type": "markdown",
      "source": [
        "### Training"
      ],
      "metadata": {
        "id": "3IyzGFd5gK2E"
      }
    },
    {
      "cell_type": "code",
      "source": [
        "tokenized_train = tokenize(train)"
      ],
      "metadata": {
        "id": "kNejI5MwjiyP"
      },
      "execution_count": null,
      "outputs": []
    },
    {
      "cell_type": "code",
      "source": [
        "tokenized_train"
      ],
      "metadata": {
        "colab": {
          "base_uri": "https://localhost:8080/"
        },
        "id": "TNBeOZEKpmTM",
        "outputId": "b6de2b61-b2d4-4049-e1b3-3c01f86e0f58"
      },
      "execution_count": null,
      "outputs": [
        {
          "output_type": "execute_result",
          "data": {
            "text/plain": [
              "{'input_ids': <tf.Tensor: shape=(40000, 512), dtype=int32, numpy=\n",
              " array([[    0, 21928,  1118, ...,     1,     1,     1],\n",
              "        [    0, 41995,  4735, ...,     1,     1,     1],\n",
              "        [    0,  1344, 41678, ...,     1,     1,     1],\n",
              "        ...,\n",
              "        [    0, 13533, 41629, ...,     1,     1,     1],\n",
              "        [    0, 42607,  3184, ...,     1,     1,     1],\n",
              "        [    0,  8738,  2242, ...,     1,     1,     1]], dtype=int32)>,\n",
              " 'attention_mask': <tf.Tensor: shape=(40000, 512), dtype=int32, numpy=\n",
              " array([[1, 1, 1, ..., 0, 0, 0],\n",
              "        [1, 1, 1, ..., 0, 0, 0],\n",
              "        [1, 1, 1, ..., 0, 0, 0],\n",
              "        ...,\n",
              "        [1, 1, 1, ..., 0, 0, 0],\n",
              "        [1, 1, 1, ..., 0, 0, 0],\n",
              "        [1, 1, 1, ..., 0, 0, 0]], dtype=int32)>}"
            ]
          },
          "metadata": {},
          "execution_count": 53
        }
      ]
    },
    {
      "cell_type": "code",
      "source": [
        "from keras.optimizers import Adam\n",
        "\n",
        "roberta.compile(\n",
        "    optimizer=Adam(\n",
        "        learning_rate=1e-5,\n",
        "        clipnorm=1.         # Clip the gradient of each weight so that its norm is no more than 1.\n",
        "    ),                      # This help prevent large gradients, which ruins gradient descent.\n",
        "    loss=\"binary_crossentropy\",\n",
        "    metrics=\"binary_accuracy\"\n",
        ")"
      ],
      "metadata": {
        "id": "FgI4qVT7y_JM"
      },
      "execution_count": null,
      "outputs": []
    },
    {
      "cell_type": "code",
      "source": [
        "# Stop training early if, after 3 epochs, validation loss doesn't decrease.\n",
        "stop_early = tf.keras.callbacks.EarlyStopping(\n",
        "    patience=3,\n",
        "    restore_best_weights=True\n",
        ")"
      ],
      "metadata": {
        "id": "wGk1LPn9vFGC"
      },
      "execution_count": null,
      "outputs": []
    },
    {
      "cell_type": "code",
      "source": [
        "# Save the best weights so far after each epoch.\n",
        "roberta_checkpoint_path = \"./drive/MyDrive/Checkpoints/roberta1\"\n",
        "save_weights = tf.keras.callbacks.ModelCheckpoint(\n",
        "    roberta_checkpoint_path,\n",
        "    save_best_only=True,\n",
        "    save_weights_only=True\n",
        ")"
      ],
      "metadata": {
        "id": "lF7IlrRdvFGE"
      },
      "execution_count": null,
      "outputs": []
    },
    {
      "cell_type": "code",
      "source": [
        "# Plot the accuracy and loss live during training.\n",
        "callbacks = [stop_early, save_weights, PlotLossesKeras()]"
      ],
      "metadata": {
        "id": "FS7jzfU5vFGE"
      },
      "execution_count": null,
      "outputs": []
    },
    {
      "cell_type": "code",
      "source": [
        "roberta.fit(\n",
        "    tokenized_train,\n",
        "    train_labels,\n",
        "    epochs=10,\n",
        "    batch_size=8, # Use a batch size of 8 to avoid too much memory consumption.\n",
        "    validation_split=VALIDATION_SPLIT,\n",
        "    callbacks=callbacks,\n",
        ")"
      ],
      "metadata": {
        "colab": {
          "base_uri": "https://localhost:8080/",
          "height": 741
        },
        "id": "SgK25EMRe9h0",
        "outputId": "af5479b9-ac31-4e40-95ed-e61b1f4e4499"
      },
      "execution_count": null,
      "outputs": [
        {
          "output_type": "display_data",
          "data": {
            "text/plain": [
              "<Figure size 864x576 with 2 Axes>"
            ],
            "image/png": "[encoded data removed]"
          },
          "metadata": {
            "needs_background": "light"
          }
        },
        {
          "output_type": "stream",
          "name": "stdout",
          "text": [
            "binary_accuracy\n",
            "\ttraining         \t (min:    0.872, max:    0.920, cur:    0.920)\n",
            "\tvalidation       \t (min:    0.902, max:    0.908, cur:    0.904)\n",
            "Loss\n",
            "\ttraining         \t (min:    0.250, max:    0.339, cur:    0.250)\n",
            "\tvalidation       \t (min:    0.249, max:    0.276, cur:    0.276)\n",
            "\b\b\b\b\b\b\b\b\b\b\b\b\b\b\b\b\b\b\b\b\b\b\b\b\b\b\b\b\b\b\b\b\b\b\b\b\b\b\b\b\b\b\b\b\b\b\b\b\b\b\b\b\b\b\b\b\b\b\b\b\b\b\b\b\b\b\b\b\b\b\b\b\b\b\b\b\b\b\b\b\b\b\b\b\b\b\b\b\b\b\b\b\b\r4375/4375 [==============================] - 4197s 959ms/step - loss: 0.2502 - binary_accuracy: 0.9204 - val_loss: 0.2757 - val_binary_accuracy: 0.9044\n"
          ]
        },
        {
          "output_type": "execute_result",
          "data": {
            "text/plain": [
              "<keras.callbacks.History at 0x7f920b5e2250>"
            ]
          },
          "metadata": {},
          "execution_count": 58
        }
      ]
    },
    {
      "cell_type": "markdown",
      "source": [
        "### Testing"
      ],
      "metadata": {
        "id": "zQKJL-79yIuZ"
      }
    },
    {
      "cell_type": "code",
      "source": [
        "tokenized_test = tokenize(test)"
      ],
      "metadata": {
        "id": "LNgWCs6YksQ1"
      },
      "execution_count": null,
      "outputs": []
    },
    {
      "cell_type": "code",
      "source": [
        "tokenized_test"
      ],
      "metadata": {
        "colab": {
          "base_uri": "https://localhost:8080/"
        },
        "id": "z7-knEsopuDO",
        "outputId": "c32d9139-e50b-4937-d9fa-358a7c554eff"
      },
      "execution_count": null,
      "outputs": [
        {
          "output_type": "execute_result",
          "data": {
            "text/plain": [
              "{'input_ids': <tf.Tensor: shape=(10000, 512), dtype=int32, numpy=\n",
              "array([[    0, 18758,  6132, ...,     1,     1,     1],\n",
              "       [    0, 26086,  2085, ...,     1,     1,     1],\n",
              "       [    0,   523,  1459, ...,     1,     1,     1],\n",
              "       ...,\n",
              "       [    0,   179, 33591, ...,     1,     1,     1],\n",
              "       [    0,  9244, 15072, ...,     1,     1,     1],\n",
              "       [    0,  2678, 45851, ...,     1,     1,     1]], dtype=int32)>, 'attention_mask': <tf.Tensor: shape=(10000, 512), dtype=int32, numpy=\n",
              "array([[1, 1, 1, ..., 0, 0, 0],\n",
              "       [1, 1, 1, ..., 0, 0, 0],\n",
              "       [1, 1, 1, ..., 0, 0, 0],\n",
              "       ...,\n",
              "       [1, 1, 1, ..., 0, 0, 0],\n",
              "       [1, 1, 1, ..., 0, 0, 0],\n",
              "       [1, 1, 1, ..., 0, 0, 0]], dtype=int32)>}"
            ]
          },
          "metadata": {},
          "execution_count": 77
        }
      ]
    },
    {
      "cell_type": "code",
      "source": [
        "roberta.evaluate(tokenized_test, test_labels)"
      ],
      "metadata": {
        "colab": {
          "base_uri": "https://localhost:8080/"
        },
        "outputId": "29456c86-48ab-49da-c168-443fb47ed930",
        "id": "IOqdvQ7-yK2L"
      },
      "execution_count": null,
      "outputs": [
        {
          "output_type": "stream",
          "name": "stdout",
          "text": [
            "313/313 [==============================] - 386s 1s/step - loss: 0.2616 - binary_accuracy: 0.9044\n"
          ]
        },
        {
          "output_type": "execute_result",
          "data": {
            "text/plain": [
              "[0.2615986168384552, 0.9043999910354614]"
            ]
          },
          "metadata": {},
          "execution_count": 61
        }
      ]
    },
    {
      "cell_type": "code",
      "source": [
        "output = roberta.predict(test)\n",
        "output"
      ],
      "metadata": {
        "colab": {
          "base_uri": "https://localhost:8080/"
        },
        "outputId": "d0269fbe-23e6-432b-cddc-a85e8599b9e2",
        "id": "Xkh_0RjEyK2N"
      },
      "execution_count": null,
      "outputs": [
        {
          "output_type": "stream",
          "name": "stdout",
          "text": [
            "313/313 [==============================] - 383s 1s/step\n"
          ]
        },
        {
          "output_type": "execute_result",
          "data": {
            "text/plain": [
              "array([[0.06504678],\n",
              "       [0.06593239],\n",
              "       [0.06491838],\n",
              "       ...,\n",
              "       [0.3806119 ],\n",
              "       [0.80887765],\n",
              "       [0.06470577]], dtype=float32)"
            ]
          },
          "metadata": {},
          "execution_count": 62
        }
      ]
    },
    {
      "cell_type": "code",
      "source": [
        "predictions = get_predictions(output)\n",
        "predictions"
      ],
      "metadata": {
        "colab": {
          "base_uri": "https://localhost:8080/"
        },
        "outputId": "a5d40a02-c315-44e8-b63d-2fc20e015c1b",
        "id": "rI0U2U65yK2O"
      },
      "execution_count": null,
      "outputs": [
        {
          "output_type": "execute_result",
          "data": {
            "text/plain": [
              "array([0, 0, 0, ..., 0, 1, 0])"
            ]
          },
          "metadata": {},
          "execution_count": 64
        }
      ]
    },
    {
      "cell_type": "code",
      "source": [
        "confusion_matrix = get_confusion_matrix(test_labels, predictions)\n",
        "confusion_matrix"
      ],
      "metadata": {
        "colab": {
          "base_uri": "https://localhost:8080/",
          "height": 111
        },
        "outputId": "0607eae6-bfcb-4c48-9293-c29115497359",
        "id": "fzADksnJyK2O"
      },
      "execution_count": null,
      "outputs": [
        {
          "output_type": "execute_result",
          "data": {
            "text/plain": [
              "          negative  positive\n",
              "negative      4571       473\n",
              "positive       483      4473"
            ],
            "text/html": [
              "\n",
              "  <div id=\"df-a582d951-3b6f-486c-aa0a-aab82298097c\">\n",
              "    <div class=\"colab-df-container\">\n",
              "      <div>\n",
              "<style scoped>\n",
              "    .dataframe tbody tr th:only-of-type {\n",
              "        vertical-align: middle;\n",
              "    }\n",
              "\n",
              "    .dataframe tbody tr th {\n",
              "        vertical-align: top;\n",
              "    }\n",
              "\n",
              "    .dataframe thead th {\n",
              "        text-align: right;\n",
              "    }\n",
              "</style>\n",
              "<table border=\"1\" class=\"dataframe\">\n",
              "  <thead>\n",
              "    <tr style=\"text-align: right;\">\n",
              "      <th></th>\n",
              "      <th>negative</th>\n",
              "      <th>positive</th>\n",
              "    </tr>\n",
              "  </thead>\n",
              "  <tbody>\n",
              "    <tr>\n",
              "      <th>negative</th>\n",
              "      <td>4571</td>\n",
              "      <td>473</td>\n",
              "    </tr>\n",
              "    <tr>\n",
              "      <th>positive</th>\n",
              "      <td>483</td>\n",
              "      <td>4473</td>\n",
              "    </tr>\n",
              "  </tbody>\n",
              "</table>\n",
              "</div>\n",
              "      <button class=\"colab-df-convert\" onclick=\"convertToInteractive('df-a582d951-3b6f-486c-aa0a-aab82298097c')\"\n",
              "              title=\"Convert this dataframe to an interactive table.\"\n",
              "              style=\"display:none;\">\n",
              "        \n",
              "  <svg xmlns=\"http://www.w3.org/2000/svg\" height=\"24px\"viewBox=\"0 0 24 24\"\n",
              "       width=\"24px\">\n",
              "    <path d=\"M0 0h24v24H0V0z\" fill=\"none\"/>\n",
              "    <path d=\"M18.56 5.44l.94 2.06.94-2.06 2.06-.94-2.06-.94-.94-2.06-.94 2.06-2.06.94zm-11 1L8.5 8.5l.94-2.06 2.06-.94-2.06-.94L8.5 2.5l-.94 2.06-2.06.94zm10 10l.94 2.06.94-2.06 2.06-.94-2.06-.94-.94-2.06-.94 2.06-2.06.94z\"/><path d=\"M17.41 7.96l-1.37-1.37c-.4-.4-.92-.59-1.43-.59-.52 0-1.04.2-1.43.59L10.3 9.45l-7.72 7.72c-.78.78-.78 2.05 0 2.83L4 21.41c.39.39.9.59 1.41.59.51 0 1.02-.2 1.41-.59l7.78-7.78 2.81-2.81c.8-.78.8-2.07 0-2.86zM5.41 20L4 18.59l7.72-7.72 1.47 1.35L5.41 20z\"/>\n",
              "  </svg>\n",
              "      </button>\n",
              "      \n",
              "  <style>\n",
              "    .colab-df-container {\n",
              "      display:flex;\n",
              "      flex-wrap:wrap;\n",
              "      gap: 12px;\n",
              "    }\n",
              "\n",
              "    .colab-df-convert {\n",
              "      background-color: #E8F0FE;\n",
              "      border: none;\n",
              "      border-radius: 50%;\n",
              "      cursor: pointer;\n",
              "      display: none;\n",
              "      fill: #1967D2;\n",
              "      height: 32px;\n",
              "      padding: 0 0 0 0;\n",
              "      width: 32px;\n",
              "    }\n",
              "\n",
              "    .colab-df-convert:hover {\n",
              "      background-color: #E2EBFA;\n",
              "      box-shadow: 0px 1px 2px rgba(60, 64, 67, 0.3), 0px 1px 3px 1px rgba(60, 64, 67, 0.15);\n",
              "      fill: #174EA6;\n",
              "    }\n",
              "\n",
              "    [theme=dark] .colab-df-convert {\n",
              "      background-color: #3B4455;\n",
              "      fill: #D2E3FC;\n",
              "    }\n",
              "\n",
              "    [theme=dark] .colab-df-convert:hover {\n",
              "      background-color: #434B5C;\n",
              "      box-shadow: 0px 1px 3px 1px rgba(0, 0, 0, 0.15);\n",
              "      filter: drop-shadow(0px 1px 2px rgba(0, 0, 0, 0.3));\n",
              "      fill: #FFFFFF;\n",
              "    }\n",
              "  </style>\n",
              "\n",
              "      <script>\n",
              "        const buttonEl =\n",
              "          document.querySelector('#df-a582d951-3b6f-486c-aa0a-aab82298097c button.colab-df-convert');\n",
              "        buttonEl.style.display =\n",
              "          google.colab.kernel.accessAllowed ? 'block' : 'none';\n",
              "\n",
              "        async function convertToInteractive(key) {\n",
              "          const element = document.querySelector('#df-a582d951-3b6f-486c-aa0a-aab82298097c');\n",
              "          const dataTable =\n",
              "            await google.colab.kernel.invokeFunction('convertToInteractive',\n",
              "                                                     [key], {});\n",
              "          if (!dataTable) return;\n",
              "\n",
              "          const docLinkHtml = 'Like what you see? Visit the ' +\n",
              "            '<a target=\"_blank\" href=https://colab.research.google.com/notebooks/data_table.ipynb>data table notebook</a>'\n",
              "            + ' to learn more about interactive tables.';\n",
              "          element.innerHTML = '';\n",
              "          dataTable['output_type'] = 'display_data';\n",
              "          await google.colab.output.renderOutput(dataTable, element);\n",
              "          const docLink = document.createElement('div');\n",
              "          docLink.innerHTML = docLinkHtml;\n",
              "          element.appendChild(docLink);\n",
              "        }\n",
              "      </script>\n",
              "    </div>\n",
              "  </div>\n",
              "  "
            ]
          },
          "metadata": {},
          "execution_count": 65
        }
      ]
    },
    {
      "cell_type": "code",
      "source": [
        "compute_metrics(confusion_matrix)"
      ],
      "metadata": {
        "colab": {
          "base_uri": "https://localhost:8080/"
        },
        "outputId": "c8e8af0d-fa23-4df4-8e85-313a2dbfe3a4",
        "id": "e2Wm6kHNyK2P"
      },
      "execution_count": null,
      "outputs": [
        {
          "output_type": "execute_result",
          "data": {
            "text/plain": [
              "Accuracy       0.904400\n",
              "Precision      0.902542\n",
              "Recall         0.904367\n",
              "Specificity    0.904432\n",
              "F-score        0.903454\n",
              "dtype: float64"
            ]
          },
          "metadata": {},
          "execution_count": 66
        }
      ]
    },
    {
      "cell_type": "markdown",
      "source": [
        "## Using Raw Text"
      ],
      "metadata": {
        "id": "TfSxcXIxFpXZ"
      }
    },
    {
      "cell_type": "markdown",
      "source": [
        "### Setup"
      ],
      "metadata": {
        "id": "ZjaZ9m0EFse5"
      }
    },
    {
      "cell_type": "code",
      "source": [
        "roberta_raw = RobertaModel(\n",
        "    hidden_layers=[512, 256, 128, 64],\n",
        "    dropout=0.5,\n",
        ")"
      ],
      "metadata": {
        "id": "5PHEQmfkFse7",
        "colab": {
          "base_uri": "https://localhost:8080/",
          "height": 154,
          "referenced_widgets": [
            "5ddd91df651642af9a503ae73ed03a5d",
            "d2b1950d9c9e472eb762311dfe5ef840",
            "987e4e54a1d34611a37c7eebbf53e64d",
            "6cfa4289e94f46f9830915738dbb8931",
            "2c4664eea9b84d479e1f6a1d1bb1f157",
            "2f0601c86fa74a41907d33550931bd91",
            "917aa7d362ac46fcac1167f4e4166a4d",
            "e6dc5a4666f849919fff0a0fbde2c298",
            "559b00bcc7374f418ab47384b735aa07",
            "4e0eab0f1ba94400961486aca5e09f2e",
            "8e70b7f766454b98b04f5b0bb7208aad"
          ]
        },
        "outputId": "48bf1d1f-5c88-4402-8184-ce9cbe70a6dd"
      },
      "execution_count": null,
      "outputs": [
        {
          "output_type": "display_data",
          "data": {
            "text/plain": [
              "Downloading:   0%|          | 0.00/657M [00:00<?, ?B/s]"
            ],
            "application/vnd.jupyter.widget-view+json": {
              "version_major": 2,
              "version_minor": 0,
              "model_id": "5ddd91df651642af9a503ae73ed03a5d"
            }
          },
          "metadata": {}
        },
        {
          "output_type": "stream",
          "name": "stderr",
          "text": [
            "Some layers from the model checkpoint at roberta-base were not used when initializing TFRobertaModel: ['lm_head']\n",
            "- This IS expected if you are initializing TFRobertaModel from the checkpoint of a model trained on another task or with another architecture (e.g. initializing a BertForSequenceClassification model from a BertForPreTraining model).\n",
            "- This IS NOT expected if you are initializing TFRobertaModel from the checkpoint of a model that you expect to be exactly identical (initializing a BertForSequenceClassification model from a BertForSequenceClassification model).\n",
            "All the layers of TFRobertaModel were initialized from the model checkpoint at roberta-base.\n",
            "If your task is similar to the task the model of the checkpoint was trained on, you can already use TFRobertaModel for predictions without further training.\n"
          ]
        }
      ]
    },
    {
      "cell_type": "code",
      "source": [
        "roberta_raw.summary()"
      ],
      "metadata": {
        "id": "B_OMl8gLFse9",
        "colab": {
          "base_uri": "https://localhost:8080/"
        },
        "outputId": "7b22b380-6df1-4925-fa52-69d44370cf92"
      },
      "execution_count": null,
      "outputs": [
        {
          "output_type": "stream",
          "name": "stdout",
          "text": [
            "Model: \"roberta_model\"\n",
            "__________________________________________________________________________________________________\n",
            " Layer (type)                   Output Shape         Param #     Connected to                     \n",
            "==================================================================================================\n",
            " input_ids (InputLayer)         [(None, 512)]        0           []                               \n",
            "                                                                                                  \n",
            " attention_mask (InputLayer)    [(None, 512)]        0           []                               \n",
            "                                                                                                  \n",
            " roberta (TFRobertaModel)       TFBaseModelOutputWi  124645632   ['input_ids[0][0]',              \n",
            "                                thPoolingAndCrossAt               'attention_mask[0][0]']         \n",
            "                                tentions(last_hidde                                               \n",
            "                                n_state=(None, 512,                                               \n",
            "                                 768),                                                            \n",
            "                                 pooler_output=(Non                                               \n",
            "                                e, 768),                                                          \n",
            "                                 past_key_values=No                                               \n",
            "                                ne, hidden_states=N                                               \n",
            "                                one, attentions=Non                                               \n",
            "                                e, cross_attentions                                               \n",
            "                                =None)                                                            \n",
            "                                                                                                  \n",
            " dense-512 (Dense)              (None, 512)          393728      ['roberta[0][1]']                \n",
            "                                                                                                  \n",
            " dense-256 (Dense)              (None, 256)          131328      ['dense-512[0][0]']              \n",
            "                                                                                                  \n",
            " dense-128 (Dense)              (None, 128)          32896       ['dense-256[0][0]']              \n",
            "                                                                                                  \n",
            " dense-64 (Dense)               (None, 64)           8256        ['dense-128[0][0]']              \n",
            "                                                                                                  \n",
            " dropout-0.5 (Dropout)          (None, 64)           0           ['dense-64[0][0]']               \n",
            "                                                                                                  \n",
            " output (Dense)                 (None, 1)            65          ['dropout-0.5[0][0]']            \n",
            "                                                                                                  \n",
            "==================================================================================================\n",
            "Total params: 125,211,905\n",
            "Trainable params: 125,211,905\n",
            "Non-trainable params: 0\n",
            "__________________________________________________________________________________________________\n"
          ]
        }
      ]
    },
    {
      "cell_type": "code",
      "source": [
        "tf.keras.utils.plot_model(roberta_raw)"
      ],
      "metadata": {
        "id": "7DN0juLAFse_",
        "colab": {
          "base_uri": "https://localhost:8080/",
          "height": 758
        },
        "outputId": "f07ba1e5-7671-48e9-a433-b33b7669e586"
      },
      "execution_count": null,
      "outputs": [
        {
          "output_type": "execute_result",
          "data": {
            "image/png": "[encoded data removed]",
            "text/plain": [
              "<IPython.core.display.Image object>"
            ]
          },
          "metadata": {},
          "execution_count": 20
        }
      ]
    },
    {
      "cell_type": "code",
      "source": [
        "train, test, train_labels, test_labels = train_test_split(\n",
        "    reviews,\n",
        "    labels\n",
        ")"
      ],
      "metadata": {
        "id": "f6OC1G1UFse_"
      },
      "execution_count": null,
      "outputs": []
    },
    {
      "cell_type": "markdown",
      "source": [
        "### Training"
      ],
      "metadata": {
        "id": "dCJ4Iy42FsfA"
      }
    },
    {
      "cell_type": "code",
      "source": [
        "tokenized_train = tokenize(train)"
      ],
      "metadata": {
        "id": "KHBm1Z1lFsfA"
      },
      "execution_count": null,
      "outputs": []
    },
    {
      "cell_type": "code",
      "source": [
        "tokenized_train"
      ],
      "metadata": {
        "id": "w2p46qOkFsfB"
      },
      "execution_count": null,
      "outputs": []
    },
    {
      "cell_type": "code",
      "source": [
        "from keras.optimizers import Adam\n",
        "\n",
        "roberta_raw.compile(\n",
        "    optimizer=Adam(\n",
        "        learning_rate=1e-5,\n",
        "        clipnorm=1.         # Clip the gradient of each weight so that its norm is no more than 1.\n",
        "    ),                      # This help prevent large gradients, which ruins gradient descent.\n",
        "    loss=\"binary_crossentropy\",\n",
        "    metrics=\"binary_accuracy\"\n",
        ")"
      ],
      "metadata": {
        "id": "qBBm_NgHFsfB"
      },
      "execution_count": null,
      "outputs": []
    },
    {
      "cell_type": "code",
      "source": [
        "# Stop training early if, after 3 epochs, validation loss doesn't decrease.\n",
        "stop_early = tf.keras.callbacks.EarlyStopping(\n",
        "    patience=3,\n",
        "    restore_best_weights=True\n",
        ")"
      ],
      "metadata": {
        "id": "YlzHUplmFsfB"
      },
      "execution_count": null,
      "outputs": []
    },
    {
      "cell_type": "code",
      "source": [
        "# Save the best weights so far after each epoch.\n",
        "roberta_raw_checkpoint_path = \"./drive/MyDrive/Checkpoints/roberta_raw\"\n",
        "save_weights = tf.keras.callbacks.ModelCheckpoint(\n",
        "    roberta_raw_checkpoint_path,\n",
        "    save_best_only=True,\n",
        "    save_weights_only=True\n",
        ")"
      ],
      "metadata": {
        "id": "gShHowaZFsfC"
      },
      "execution_count": null,
      "outputs": []
    },
    {
      "cell_type": "code",
      "source": [
        "# Plot the accuracy and loss live during training.\n",
        "callbacks = [stop_early, save_weights, PlotLossesKeras()]"
      ],
      "metadata": {
        "id": "mELDym9fFsfD"
      },
      "execution_count": null,
      "outputs": []
    },
    {
      "cell_type": "code",
      "source": [
        "roberta_raw.fit(\n",
        "    tokenized_train,\n",
        "    train_labels,\n",
        "    epochs=10,\n",
        "    batch_size=8, # Use a batch size of 8 to avoid too much memory consumption.\n",
        "    validation_split=VALIDATION_SPLIT,\n",
        "    callbacks=callbacks,\n",
        ")"
      ],
      "metadata": {
        "id": "JtBdY6G4FsfD"
      },
      "execution_count": null,
      "outputs": []
    },
    {
      "cell_type": "markdown",
      "source": [
        "### Testing"
      ],
      "metadata": {
        "id": "QT7ed6KoFsfD"
      }
    },
    {
      "cell_type": "markdown",
      "source": [
        "Load previously-saved weights before testing"
      ],
      "metadata": {
        "id": "Fr5y7oXWHo0D"
      }
    },
    {
      "cell_type": "code",
      "source": [
        "roberta_raw.load_weights(roberta_raw_checkpoint_path)"
      ],
      "metadata": {
        "colab": {
          "base_uri": "https://localhost:8080/"
        },
        "id": "LNjU_LXlHnx2",
        "outputId": "650b0781-dc3a-47ce-8ec4-fe3f8a414aa1"
      },
      "execution_count": null,
      "outputs": [
        {
          "output_type": "execute_result",
          "data": {
            "text/plain": [
              "<tensorflow.python.training.tracking.util.CheckpointLoadStatus at 0x7fbf522fd0d0>"
            ]
          },
          "metadata": {},
          "execution_count": 34
        }
      ]
    },
    {
      "cell_type": "code",
      "source": [
        "tokenized_test = tokenize(test)"
      ],
      "metadata": {
        "id": "Zt-8Zwf6FsfE"
      },
      "execution_count": null,
      "outputs": []
    },
    {
      "cell_type": "code",
      "source": [
        "tokenized_test"
      ],
      "metadata": {
        "id": "1AwsOVasFsfE",
        "colab": {
          "base_uri": "https://localhost:8080/"
        },
        "outputId": "9f9fe519-ca18-4f93-a42c-7fb2a37b8e50"
      },
      "execution_count": null,
      "outputs": [
        {
          "output_type": "execute_result",
          "data": {
            "text/plain": [
              "{'input_ids': <tf.Tensor: shape=(10000, 512), dtype=int32, numpy=\n",
              " array([[    0,  3908,   440, ...,     1,     1,     1],\n",
              "        [    0,   100,   802, ...,     1,     1,     1],\n",
              "        [    0,  4688,  6281, ...,     1,     1,     1],\n",
              "        ...,\n",
              "        [    0,   970,    16, ...,     1,     1,     1],\n",
              "        [    0,  1779,    20, ...,     1,     1,     1],\n",
              "        [    0,  7516, 45851, ...,     1,     1,     1]], dtype=int32)>,\n",
              " 'attention_mask': <tf.Tensor: shape=(10000, 512), dtype=int32, numpy=\n",
              " array([[1, 1, 1, ..., 0, 0, 0],\n",
              "        [1, 1, 1, ..., 0, 0, 0],\n",
              "        [1, 1, 1, ..., 0, 0, 0],\n",
              "        ...,\n",
              "        [1, 1, 1, ..., 0, 0, 0],\n",
              "        [1, 1, 1, ..., 0, 0, 0],\n",
              "        [1, 1, 1, ..., 0, 0, 0]], dtype=int32)>}"
            ]
          },
          "metadata": {},
          "execution_count": 29
        }
      ]
    },
    {
      "cell_type": "code",
      "source": [
        "roberta_raw.evaluate(tokenized_test, test_labels)"
      ],
      "metadata": {
        "id": "9HitiODOFsfE"
      },
      "execution_count": null,
      "outputs": []
    },
    {
      "cell_type": "code",
      "source": [
        "output = roberta_raw.predict(test)\n",
        "output"
      ],
      "metadata": {
        "id": "Mbi82ODIFsfE"
      },
      "execution_count": null,
      "outputs": []
    },
    {
      "cell_type": "code",
      "source": [
        "predictions = get_predictions(output)\n",
        "predictions"
      ],
      "metadata": {
        "id": "uC2tKsrVFsfF"
      },
      "execution_count": null,
      "outputs": []
    },
    {
      "cell_type": "code",
      "source": [
        "confusion_matrix = get_confusion_matrix(test_labels, predictions)\n",
        "confusion_matrix"
      ],
      "metadata": {
        "id": "tdx-MSWpFsfF"
      },
      "execution_count": null,
      "outputs": []
    },
    {
      "cell_type": "code",
      "source": [
        "compute_metrics(confusion_matrix)"
      ],
      "metadata": {
        "id": "64sQEWEaFsfG"
      },
      "execution_count": null,
      "outputs": []
    },
    {
      "cell_type": "markdown",
      "source": [
        "# **RNN Model**"
      ],
      "metadata": {
        "id": "FnZZxIMpQGqh"
      }
    },
    {
      "cell_type": "code",
      "source": [
        "from keras import Sequential, layers"
      ],
      "metadata": {
        "id": "Ibu_mj_gQH_r"
      },
      "execution_count": null,
      "outputs": []
    },
    {
      "cell_type": "markdown",
      "source": [
        "Generate the vocabulary from our train data"
      ],
      "metadata": {
        "id": "f2PI3hN1Wg41"
      }
    },
    {
      "cell_type": "code",
      "source": [
        "def generate_vocabulary(texts):\n",
        "    # Split each text by whitespaces, which generates the words.\n",
        "    words = map(lambda text: text.split(), texts)\n",
        "    # Generate a vocabulary for each review by generating a set\n",
        "    # of words for each. This removes duplicate words.\n",
        "    word_vocabularies = map(lambda words: set(words), words)\n",
        "    # To find the total vocabulary, we find the union of all these sets.\n",
        "    total_vocabulary = set.union(*word_vocabularies)\n",
        "    # Convert to a numpy array to use with the RNN model.\n",
        "    return np.array(list(total_vocabulary), dtype=str)"
      ],
      "metadata": {
        "id": "CFFCpMbeWbtC"
      },
      "execution_count": null,
      "outputs": []
    },
    {
      "cell_type": "code",
      "source": [
        "class RNNClassifier(Sequential):\n",
        "    def __init__(\n",
        "        self,\n",
        "        vocabulary,\n",
        "        embedding_output_dim: int,\n",
        "        lstm_units: int,\n",
        "        sequence_length: int = 512,\n",
        "        dropout: float = 0.0,\n",
        "        recurrent_dropout: float = 0.0\n",
        "    ):\n",
        "        super().__init__([\n",
        "            # The input needs to have a shape of (1,) because we need to\n",
        "            # guarantee that there is exactly one string input per batch.\n",
        "            layers.Input(shape=(1,), dtype=tf.string, name=\"input\"),\n",
        "            # Pass `None` to `standardize` because text preprocessing\n",
        "            # is handled manually outside the model. This shows the\n",
        "            # significance of preprocessing on the model's performance.\n",
        "            layers.TextVectorization(\n",
        "                vocabulary=vocabulary,\n",
        "                standardize=None,\n",
        "                # Each sequence is padded or truncated to the given length.\n",
        "                output_sequence_length=sequence_length,\n",
        "                name=f\"text-vectorization-{sequence_length}\"\n",
        "            ),\n",
        "            layers.Embedding(\n",
        "                # `input_dim` takes the vocabulary size.\n",
        "                input_dim=len(vocabulary),\n",
        "                output_dim=embedding_output_dim,\n",
        "                input_length=sequence_length,\n",
        "                name=\"embedding\"\n",
        "            ),\n",
        "            # Add a long-short-term memory layer\n",
        "            layers.LSTM(\n",
        "                units=lstm_units,\n",
        "                dropout=dropout,\n",
        "                recurrent_dropout=recurrent_dropout,\n",
        "                # Return the full output sequences, not just the last state.\n",
        "                return_sequences=True,\n",
        "                name=f\"lstm-{lstm_units}\"\n",
        "            ),\n",
        "            # Add the output classifier layer, but first flatten the 3D input.\n",
        "            layers.Flatten(),\n",
        "            layers.Dense(1, activation=\"sigmoid\", name=\"output\")\n",
        "        ])"
      ],
      "metadata": {
        "id": "rnPcS0RnXczj"
      },
      "execution_count": null,
      "outputs": []
    },
    {
      "cell_type": "markdown",
      "source": [
        "## Using Preprocessed Text"
      ],
      "metadata": {
        "id": "yzuk3VjPmH6Y"
      }
    },
    {
      "cell_type": "markdown",
      "source": [
        "### Setup"
      ],
      "metadata": {
        "id": "LWGzUiCFmJgY"
      }
    },
    {
      "cell_type": "code",
      "source": [
        "train, test, train_labels, test_labels = train_test_split(\n",
        "    preprocessed_reviews,\n",
        "    labels\n",
        ")"
      ],
      "metadata": {
        "id": "CIWbjJWTrnHo"
      },
      "execution_count": null,
      "outputs": []
    },
    {
      "cell_type": "code",
      "source": [
        "training_vocabulary = generate_vocabulary(train)"
      ],
      "metadata": {
        "id": "ZHS-dXieqvCD"
      },
      "execution_count": null,
      "outputs": []
    },
    {
      "cell_type": "code",
      "source": [
        "training_vocabulary"
      ],
      "metadata": {
        "colab": {
          "base_uri": "https://localhost:8080/"
        },
        "id": "wLmKSDVHuBHr",
        "outputId": "6c3c4844-2c46-467c-869a-fcce40dafd43"
      },
      "execution_count": null,
      "outputs": [
        {
          "output_type": "execute_result",
          "data": {
            "text/plain": [
              "array(['original10', 'imagesthis', 'authoritiesthats', ..., 'presentis',\n",
              "       'atrocious', 'faceanother'], dtype='<U74')"
            ]
          },
          "metadata": {},
          "execution_count": 53
        }
      ]
    },
    {
      "cell_type": "code",
      "source": [
        "rnn_model = RNNClassifier(\n",
        "    vocabulary=training_vocabulary,\n",
        "    embedding_output_dim=128,\n",
        "    lstm_units=128,\n",
        "    dropout=0.5,\n",
        "    recurrent_dropout=0.25\n",
        ")"
      ],
      "metadata": {
        "id": "60eZZRUZuqln",
        "colab": {
          "base_uri": "https://localhost:8080/"
        },
        "outputId": "e36fdb34-e92a-433f-f7ef-46f30cdd8ca4"
      },
      "execution_count": null,
      "outputs": [
        {
          "output_type": "stream",
          "name": "stderr",
          "text": [
            "WARNING:tensorflow:Layer lstm-128 will not use cuDNN kernels since it doesn't meet the criteria. It will use a generic GPU kernel as fallback when running on GPU.\n"
          ]
        }
      ]
    },
    {
      "cell_type": "code",
      "source": [
        "rnn_model.summary()"
      ],
      "metadata": {
        "colab": {
          "base_uri": "https://localhost:8080/"
        },
        "id": "eQnDX79FxwYM",
        "outputId": "c0d267ff-5b80-4f14-8cc0-f69c37d3e167"
      },
      "execution_count": null,
      "outputs": [
        {
          "output_type": "stream",
          "name": "stdout",
          "text": [
            "Model: \"rnn_classifier_1\"\n",
            "_________________________________________________________________\n",
            " Layer (type)                Output Shape              Param #   \n",
            "=================================================================\n",
            " text-vectorization-512 (Tex  (None, 512)              0         \n",
            " tVectorization)                                                 \n",
            "                                                                 \n",
            " embedding (Embedding)       (None, 512, 128)          20533760  \n",
            "                                                                 \n",
            " lstm-128 (LSTM)             (None, 512, 128)          131584    \n",
            "                                                                 \n",
            " flatten_1 (Flatten)         (None, 65536)             0         \n",
            "                                                                 \n",
            " output (Dense)              (None, 1)                 65537     \n",
            "                                                                 \n",
            "=================================================================\n",
            "Total params: 20,730,881\n",
            "Trainable params: 20,730,881\n",
            "Non-trainable params: 0\n",
            "_________________________________________________________________\n"
          ]
        }
      ]
    },
    {
      "cell_type": "code",
      "source": [
        "tf.keras.utils.plot_model(rnn_model)"
      ],
      "metadata": {
        "colab": {
          "base_uri": "https://localhost:8080/",
          "height": 54
        },
        "id": "3sW2kY8ux0oQ",
        "outputId": "aaf22c6d-73e2-48b5-e02d-3d622655b7a4"
      },
      "execution_count": null,
      "outputs": [
        {
          "output_type": "execute_result",
          "data": {
            "image/png": "[encoded data removed]",
            "text/plain": [
              "<IPython.core.display.Image object>"
            ]
          },
          "metadata": {},
          "execution_count": 56
        }
      ]
    },
    {
      "cell_type": "markdown",
      "source": [
        "### Training"
      ],
      "metadata": {
        "id": "COztMNyRmKyb"
      }
    },
    {
      "cell_type": "code",
      "source": [
        "from official.nlp import optimization  # to create AdamW optimizer\n",
        "\n",
        "epochs = 15\n",
        "batch_size = 64\n",
        "\n",
        "train_size = (1 - VALIDATION_SPLIT) * train.size\n",
        "steps_per_epoch = int(np.ceil(train_size / batch_size))\n",
        "num_train_steps = steps_per_epoch * epochs\n",
        "num_warmup_steps = int(0.1 * num_train_steps)\n",
        "\n",
        "optimizer = optimization.create_optimizer(\n",
        "    init_lr=5e-5,\n",
        "    num_train_steps=num_train_steps,\n",
        "    num_warmup_steps=num_warmup_steps,\n",
        "    optimizer_type=\"adamw\"\n",
        ")\n",
        "\n",
        "rnn_model.compile(\n",
        "    optimizer=optimizer,\n",
        "    loss=\"binary_crossentropy\",\n",
        "    metrics=\"binary_accuracy\"\n",
        ")"
      ],
      "metadata": {
        "id": "iOiTAgjPx-7_"
      },
      "execution_count": null,
      "outputs": []
    },
    {
      "cell_type": "code",
      "source": [
        "# Stop training early if, after 5 epochs, validation loss doesn't decrease.\n",
        "stop_early = tf.keras.callbacks.EarlyStopping(\n",
        "    patience=5,\n",
        "    restore_best_weights=True\n",
        ")"
      ],
      "metadata": {
        "id": "_KDWYwBFySOh"
      },
      "execution_count": null,
      "outputs": []
    },
    {
      "cell_type": "code",
      "source": [
        "# Save the best weights so far after each epoch.\n",
        "rnn_checkpoint_path = \"./drive/MyDrive/Checkpoints/rnn\"\n",
        "save_weights = tf.keras.callbacks.ModelCheckpoint(\n",
        "    rnn_checkpoint_path,\n",
        "    save_best_only=True,\n",
        "    save_weights_only=True\n",
        ")"
      ],
      "metadata": {
        "id": "8A4709IvyUa1"
      },
      "execution_count": null,
      "outputs": []
    },
    {
      "cell_type": "code",
      "source": [
        "# Plot the accuracy and loss live during training.\n",
        "callbacks = [stop_early, save_weights, PlotLossesKeras()]"
      ],
      "metadata": {
        "id": "C-5a0U0Pyc3i"
      },
      "execution_count": null,
      "outputs": []
    },
    {
      "cell_type": "code",
      "source": [
        "rnn_model.fit(\n",
        "    train,\n",
        "    train_labels,\n",
        "    batch_size=batch_size,\n",
        "    epochs=epochs,\n",
        "    validation_split=VALIDATION_SPLIT,\n",
        "    callbacks=callbacks\n",
        ")"
      ],
      "metadata": {
        "id": "3qI28JOhye4B",
        "colab": {
          "base_uri": "https://localhost:8080/",
          "height": 758
        },
        "outputId": "a2354200-4dff-4088-9327-4fb25bd3d2e2"
      },
      "execution_count": null,
      "outputs": [
        {
          "output_type": "display_data",
          "data": {
            "text/plain": [
              "<Figure size 864x576 with 2 Axes>"
            ],
            "image/png": "[encoded data removed]"
          },
          "metadata": {
            "needs_background": "light"
          }
        },
        {
          "output_type": "stream",
          "name": "stdout",
          "text": [
            "binary_accuracy\n",
            "\ttraining         \t (min:    0.509, max:    0.944, cur:    0.944)\n",
            "\tvalidation       \t (min:    0.529, max:    0.893, cur:    0.893)\n",
            "Loss\n",
            "\ttraining         \t (min:    0.154, max:    0.693, cur:    0.154)\n",
            "\tvalidation       \t (min:    0.265, max:    0.691, cur:    0.295)\n",
            "\b\b\b\b\b\b\b\b\b\b\b\b\b\b\b\b\b\b\b\b\b\b\b\b\b\b\b\b\b\b\b\b\b\b\b\b\b\b\b\b\b\b\b\b\b\b\b\b\b\b\b\b\b\b\b\b\b\b\b\b\b\b\b\b\b\b\b\b\b\b\b\b\b\b\b\b\b\b\b\b\b\b\b\b\b\b\b\b\b\b\b\r547/547 [==============================] - 1123s 2s/step - loss: 0.1535 - binary_accuracy: 0.9438 - val_loss: 0.2954 - val_binary_accuracy: 0.8930\n",
            "Epoch 13/15\n",
            " 51/547 [=>............................] - ETA: 16:41 - loss: 0.1283 - binary_accuracy: 0.9553"
          ]
        }
      ]
    },
    {
      "cell_type": "markdown",
      "source": [
        "### Testing"
      ],
      "metadata": {
        "id": "F_eAPbk-mMO_"
      }
    },
    {
      "cell_type": "code",
      "source": [
        "rnn_model.evaluate(test, test_labels)"
      ],
      "metadata": {
        "id": "J8HjdO2wByoW"
      },
      "execution_count": null,
      "outputs": []
    },
    {
      "cell_type": "code",
      "source": [
        "output = rnn_model.predict(test)\n",
        "output"
      ],
      "metadata": {
        "id": "Gb7BJYfTByoY"
      },
      "execution_count": null,
      "outputs": []
    },
    {
      "cell_type": "code",
      "source": [
        "predictions = get_predictions(output)\n",
        "predictions"
      ],
      "metadata": {
        "id": "5r0r3B7M_Zhr"
      },
      "execution_count": null,
      "outputs": []
    },
    {
      "cell_type": "code",
      "source": [
        "confusion_matrix = get_confusion_matrix(test_labels, predictions)\n",
        "confusion_matrix"
      ],
      "metadata": {
        "id": "qUpapKvR_Zhr"
      },
      "execution_count": null,
      "outputs": []
    },
    {
      "cell_type": "code",
      "source": [
        "predictions = get_predictions(output)\n",
        "predictions"
      ],
      "metadata": {
        "id": "b5vmSz63_Zhr"
      },
      "execution_count": null,
      "outputs": []
    },
    {
      "cell_type": "code",
      "source": [
        "confusion_matrix = get_confusion_matrix(test_labels, predictions)\n",
        "confusion_matrix"
      ],
      "metadata": {
        "id": "hddSUzXf_Zhr"
      },
      "execution_count": null,
      "outputs": []
    },
    {
      "cell_type": "code",
      "source": [
        "compute_metrics(confusion_matrix)"
      ],
      "metadata": {
        "id": "VKncAXQk_Zhr"
      },
      "execution_count": null,
      "outputs": []
    },
    {
      "cell_type": "markdown",
      "source": [
        "## Using Raw Text"
      ],
      "metadata": {
        "id": "HBiDnyyV_8yX"
      }
    },
    {
      "cell_type": "markdown",
      "source": [
        "### Setup"
      ],
      "metadata": {
        "id": "WWmtWfY0_8yX"
      }
    },
    {
      "cell_type": "code",
      "source": [
        "train, test, train_labels, test_labels = train_test_split(\n",
        "    reviews,\n",
        "    labels\n",
        ")"
      ],
      "metadata": {
        "id": "JOhGFGOE_8yX"
      },
      "execution_count": null,
      "outputs": []
    },
    {
      "cell_type": "code",
      "source": [
        "training_vocabulary = generate_vocabulary(train)"
      ],
      "metadata": {
        "id": "qJtwZh6O_8yX"
      },
      "execution_count": null,
      "outputs": []
    },
    {
      "cell_type": "code",
      "source": [
        "training_vocabulary"
      ],
      "metadata": {
        "colab": {
          "base_uri": "https://localhost:8080/"
        },
        "outputId": "6c3c4844-2c46-467c-869a-fcce40dafd43",
        "id": "mOlIz-pU_8yX"
      },
      "execution_count": null,
      "outputs": [
        {
          "output_type": "execute_result",
          "data": {
            "text/plain": [
              "array(['original10', 'imagesthis', 'authoritiesthats', ..., 'presentis',\n",
              "       'atrocious', 'faceanother'], dtype='<U74')"
            ]
          },
          "metadata": {},
          "execution_count": 53
        }
      ]
    },
    {
      "cell_type": "code",
      "source": [
        "rnn_raw_model = RNNClassifier(\n",
        "    vocabulary=training_vocabulary,\n",
        "    embedding_output_dim=128,\n",
        "    lstm_units=128,\n",
        "    dropout=0.5,\n",
        "    recurrent_dropout=0.25\n",
        ")"
      ],
      "metadata": {
        "id": "OV_fpM1__8yY"
      },
      "execution_count": null,
      "outputs": []
    },
    {
      "cell_type": "code",
      "source": [
        "rnn_raw_model.summary()"
      ],
      "metadata": {
        "id": "lPY_KZ88_8yY"
      },
      "execution_count": null,
      "outputs": []
    },
    {
      "cell_type": "code",
      "source": [
        "tf.keras.utils.plot_model(rnn_raw_model)"
      ],
      "metadata": {
        "id": "UH0XS3DA_8yY"
      },
      "execution_count": null,
      "outputs": []
    },
    {
      "cell_type": "markdown",
      "source": [
        "### Training"
      ],
      "metadata": {
        "id": "eU130rVS_8yY"
      }
    },
    {
      "cell_type": "code",
      "source": [
        "from official.nlp import optimization  # to create AdamW optimizer\n",
        "\n",
        "epochs = 15\n",
        "batch_size = 64\n",
        "\n",
        "train_size = (1 - VALIDATION_SPLIT) * train.size\n",
        "steps_per_epoch = int(np.ceil(train_size / batch_size))\n",
        "num_train_steps = steps_per_epoch * epochs\n",
        "num_warmup_steps = int(0.1 * num_train_steps)\n",
        "\n",
        "optimizer = optimization.create_optimizer(\n",
        "    init_lr=5e-5,\n",
        "    num_train_steps=num_train_steps,\n",
        "    num_warmup_steps=num_warmup_steps,\n",
        "    optimizer_type=\"adamw\"\n",
        ")\n",
        "\n",
        "rnn_raw_model.compile(\n",
        "    optimizer=optimizer,\n",
        "    loss=\"binary_crossentropy\",\n",
        "    metrics=\"binary_accuracy\"\n",
        ")"
      ],
      "metadata": {
        "id": "eHF3D5tE_8yY"
      },
      "execution_count": null,
      "outputs": []
    },
    {
      "cell_type": "code",
      "source": [
        "# Stop training early if, after 5 epochs, validation loss doesn't decrease.\n",
        "stop_early = tf.keras.callbacks.EarlyStopping(\n",
        "    patience=5,\n",
        "    restore_best_weights=True\n",
        ")"
      ],
      "metadata": {
        "id": "W42CF5fO_8yZ"
      },
      "execution_count": null,
      "outputs": []
    },
    {
      "cell_type": "code",
      "source": [
        "# Save the best weights so far after each epoch.\n",
        "rnn_checkpoint_path = \"./drive/MyDrive/Checkpoints/rnn\"\n",
        "save_weights = tf.keras.callbacks.ModelCheckpoint(\n",
        "    rnn_checkpoint_path,\n",
        "    save_best_only=True,\n",
        "    save_weights_only=True\n",
        ")"
      ],
      "metadata": {
        "id": "3TQJP4J5_8yZ"
      },
      "execution_count": null,
      "outputs": []
    },
    {
      "cell_type": "code",
      "source": [
        "# Plot the accuracy and loss live during training.\n",
        "callbacks = [stop_early, save_weights, PlotLossesKeras()]"
      ],
      "metadata": {
        "id": "Qxfzfo5p_8yZ"
      },
      "execution_count": null,
      "outputs": []
    },
    {
      "cell_type": "code",
      "source": [
        "rnn_raw_model.fit(\n",
        "    train,\n",
        "    train_labels,\n",
        "    batch_size=batch_size,\n",
        "    epochs=epochs,\n",
        "    validation_split=VALIDATION_SPLIT,\n",
        "    callbacks=callbacks\n",
        ")"
      ],
      "metadata": {
        "id": "YYsLz7Gn_8yZ"
      },
      "execution_count": null,
      "outputs": []
    },
    {
      "cell_type": "markdown",
      "source": [
        "### Testing"
      ],
      "metadata": {
        "id": "OzOjsfDx_8yZ"
      }
    },
    {
      "cell_type": "code",
      "source": [
        "rnn_raw_model.evaluate(test, test_labels)"
      ],
      "metadata": {
        "id": "Ve510qyi_8yZ"
      },
      "execution_count": null,
      "outputs": []
    },
    {
      "cell_type": "code",
      "source": [
        "output = rnn_raw_model.predict(test)\n",
        "output"
      ],
      "metadata": {
        "id": "3ZmT-Uc3_8yZ"
      },
      "execution_count": null,
      "outputs": []
    },
    {
      "cell_type": "code",
      "source": [
        "predictions = get_predictions(output)\n",
        "predictions"
      ],
      "metadata": {
        "id": "QxSWsny7_8ya"
      },
      "execution_count": null,
      "outputs": []
    },
    {
      "cell_type": "code",
      "source": [
        "confusion_matrix = get_confusion_matrix(test_labels, predictions)\n",
        "confusion_matrix"
      ],
      "metadata": {
        "id": "fOPkBcd8_8ya"
      },
      "execution_count": null,
      "outputs": []
    },
    {
      "cell_type": "code",
      "source": [
        "predictions = get_predictions(output)\n",
        "predictions"
      ],
      "metadata": {
        "id": "QCh3LcXD_8ya"
      },
      "execution_count": null,
      "outputs": []
    },
    {
      "cell_type": "code",
      "source": [
        "confusion_matrix = get_confusion_matrix(test_labels, predictions)\n",
        "confusion_matrix"
      ],
      "metadata": {
        "id": "EwfadNbY_8ya"
      },
      "execution_count": null,
      "outputs": []
    },
    {
      "cell_type": "code",
      "source": [
        "compute_metrics(confusion_matrix)"
      ],
      "metadata": {
        "id": "5LRYvp63_8ya"
      },
      "execution_count": null,
      "outputs": []
    }
  ],
  "metadata": {
    "colab": {
      "provenance": [],
      "collapsed_sections": [
        "sh3MKU67gj6_",
        "aUC58P53Bqw7",
        "mD39v_DlcSsg",
        "QhVDWTeCl2mx",
        "4VQsRRVU2Ljw",
        "WFmp4W6h1G4U",
        "SyaP6Lpw_e_i",
        "UlKbVN56Ya2J",
        "vmv8uWm0e-5U",
        "cCmR51ZBlx8X",
        "nKOppFxjFnzA",
        "xkYrxLuXtqNg",
        "I-jHAWUc_F8v",
        "3IyzGFd5gK2E",
        "zQKJL-79yIuZ",
        "ZjaZ9m0EFse5"
      ],
      "toc_visible": true
    },
    "gpuClass": "standard",
    "kernelspec": {
      "display_name": "Python 3",
      "name": "python3"
    },
    "language_info": {
      "name": "python"
    },
    "widgets": {
      "application/vnd.jupyter.widget-state+json": {
        "51d60932b40e44b5bb36c14cf86c8a16": {
          "model_module": "@jupyter-widgets/controls",
          "model_name": "HBoxModel",
          "model_module_version": "1.5.0",
          "state": {
            "_dom_classes": [],
            "_model_module": "@jupyter-widgets/controls",
            "_model_module_version": "1.5.0",
            "_model_name": "HBoxModel",
            "_view_count": null,
            "_view_module": "@jupyter-widgets/controls",
            "_view_module_version": "1.5.0",
            "_view_name": "HBoxView",
            "box_style": "",
            "children": [
              "IPY_MODEL_f728f63a75c1454bac9fb17c4af297f4",
              "IPY_MODEL_8abb5d8025114832a8d85e06b2d992f5",
              "IPY_MODEL_85c945f1520c4358952fdf52232547f7"
            ],
            "layout": "IPY_MODEL_de09ecdc1167480f8df718f46777b3d3"
          }
        },
        "f728f63a75c1454bac9fb17c4af297f4": {
          "model_module": "@jupyter-widgets/controls",
          "model_name": "HTMLModel",
          "model_module_version": "1.5.0",
          "state": {
            "_dom_classes": [],
            "_model_module": "@jupyter-widgets/controls",
            "_model_module_version": "1.5.0",
            "_model_name": "HTMLModel",
            "_view_count": null,
            "_view_module": "@jupyter-widgets/controls",
            "_view_module_version": "1.5.0",
            "_view_name": "HTMLView",
            "description": "",
            "description_tooltip": null,
            "layout": "IPY_MODEL_fc32c0b7acbe4f7aae919e2a3f4c17fc",
            "placeholder": "​",
            "style": "IPY_MODEL_ac0fdc149cf7415c95e1badd64bb2f5a",
            "value": "Downloading: 100%"
          }
        },
        "8abb5d8025114832a8d85e06b2d992f5": {
          "model_module": "@jupyter-widgets/controls",
          "model_name": "FloatProgressModel",
          "model_module_version": "1.5.0",
          "state": {
            "_dom_classes": [],
            "_model_module": "@jupyter-widgets/controls",
            "_model_module_version": "1.5.0",
            "_model_name": "FloatProgressModel",
            "_view_count": null,
            "_view_module": "@jupyter-widgets/controls",
            "_view_module_version": "1.5.0",
            "_view_name": "ProgressView",
            "bar_style": "success",
            "description": "",
            "description_tooltip": null,
            "layout": "IPY_MODEL_476f3d50f4c044c1890b0dde326f2f96",
            "max": 898823,
            "min": 0,
            "orientation": "horizontal",
            "style": "IPY_MODEL_48692f2f248f4913a88bcc0356bdd25d",
            "value": 898823
          }
        },
        "85c945f1520c4358952fdf52232547f7": {
          "model_module": "@jupyter-widgets/controls",
          "model_name": "HTMLModel",
          "model_module_version": "1.5.0",
          "state": {
            "_dom_classes": [],
            "_model_module": "@jupyter-widgets/controls",
            "_model_module_version": "1.5.0",
            "_model_name": "HTMLModel",
            "_view_count": null,
            "_view_module": "@jupyter-widgets/controls",
            "_view_module_version": "1.5.0",
            "_view_name": "HTMLView",
            "description": "",
            "description_tooltip": null,
            "layout": "IPY_MODEL_4c70ff7fdcad4b1698f6a548ee2bad44",
            "placeholder": "​",
            "style": "IPY_MODEL_7e12d12a970847aba8405334a3d53424",
            "value": " 899k/899k [00:00&lt;00:00, 2.46MB/s]"
          }
        },
        "de09ecdc1167480f8df718f46777b3d3": {
          "model_module": "@jupyter-widgets/base",
          "model_name": "LayoutModel",
          "model_module_version": "1.2.0",
          "state": {
            "_model_module": "@jupyter-widgets/base",
            "_model_module_version": "1.2.0",
            "_model_name": "LayoutModel",
            "_view_count": null,
            "_view_module": "@jupyter-widgets/base",
            "_view_module_version": "1.2.0",
            "_view_name": "LayoutView",
            "align_content": null,
            "align_items": null,
            "align_self": null,
            "border": null,
            "bottom": null,
            "display": null,
            "flex": null,
            "flex_flow": null,
            "grid_area": null,
            "grid_auto_columns": null,
            "grid_auto_flow": null,
            "grid_auto_rows": null,
            "grid_column": null,
            "grid_gap": null,
            "grid_row": null,
            "grid_template_areas": null,
            "grid_template_columns": null,
            "grid_template_rows": null,
            "height": null,
            "justify_content": null,
            "justify_items": null,
            "left": null,
            "margin": null,
            "max_height": null,
            "max_width": null,
            "min_height": null,
            "min_width": null,
            "object_fit": null,
            "object_position": null,
            "order": null,
            "overflow": null,
            "overflow_x": null,
            "overflow_y": null,
            "padding": null,
            "right": null,
            "top": null,
            "visibility": null,
            "width": null
          }
        },
        "fc32c0b7acbe4f7aae919e2a3f4c17fc": {
          "model_module": "@jupyter-widgets/base",
          "model_name": "LayoutModel",
          "model_module_version": "1.2.0",
          "state": {
            "_model_module": "@jupyter-widgets/base",
            "_model_module_version": "1.2.0",
            "_model_name": "LayoutModel",
            "_view_count": null,
            "_view_module": "@jupyter-widgets/base",
            "_view_module_version": "1.2.0",
            "_view_name": "LayoutView",
            "align_content": null,
            "align_items": null,
            "align_self": null,
            "border": null,
            "bottom": null,
            "display": null,
            "flex": null,
            "flex_flow": null,
            "grid_area": null,
            "grid_auto_columns": null,
            "grid_auto_flow": null,
            "grid_auto_rows": null,
            "grid_column": null,
            "grid_gap": null,
            "grid_row": null,
            "grid_template_areas": null,
            "grid_template_columns": null,
            "grid_template_rows": null,
            "height": null,
            "justify_content": null,
            "justify_items": null,
            "left": null,
            "margin": null,
            "max_height": null,
            "max_width": null,
            "min_height": null,
            "min_width": null,
            "object_fit": null,
            "object_position": null,
            "order": null,
            "overflow": null,
            "overflow_x": null,
            "overflow_y": null,
            "padding": null,
            "right": null,
            "top": null,
            "visibility": null,
            "width": null
          }
        },
        "ac0fdc149cf7415c95e1badd64bb2f5a": {
          "model_module": "@jupyter-widgets/controls",
          "model_name": "DescriptionStyleModel",
          "model_module_version": "1.5.0",
          "state": {
            "_model_module": "@jupyter-widgets/controls",
            "_model_module_version": "1.5.0",
            "_model_name": "DescriptionStyleModel",
            "_view_count": null,
            "_view_module": "@jupyter-widgets/base",
            "_view_module_version": "1.2.0",
            "_view_name": "StyleView",
            "description_width": ""
          }
        },
        "476f3d50f4c044c1890b0dde326f2f96": {
          "model_module": "@jupyter-widgets/base",
          "model_name": "LayoutModel",
          "model_module_version": "1.2.0",
          "state": {
            "_model_module": "@jupyter-widgets/base",
            "_model_module_version": "1.2.0",
            "_model_name": "LayoutModel",
            "_view_count": null,
            "_view_module": "@jupyter-widgets/base",
            "_view_module_version": "1.2.0",
            "_view_name": "LayoutView",
            "align_content": null,
            "align_items": null,
            "align_self": null,
            "border": null,
            "bottom": null,
            "display": null,
            "flex": null,
            "flex_flow": null,
            "grid_area": null,
            "grid_auto_columns": null,
            "grid_auto_flow": null,
            "grid_auto_rows": null,
            "grid_column": null,
            "grid_gap": null,
            "grid_row": null,
            "grid_template_areas": null,
            "grid_template_columns": null,
            "grid_template_rows": null,
            "height": null,
            "justify_content": null,
            "justify_items": null,
            "left": null,
            "margin": null,
            "max_height": null,
            "max_width": null,
            "min_height": null,
            "min_width": null,
            "object_fit": null,
            "object_position": null,
            "order": null,
            "overflow": null,
            "overflow_x": null,
            "overflow_y": null,
            "padding": null,
            "right": null,
            "top": null,
            "visibility": null,
            "width": null
          }
        },
        "48692f2f248f4913a88bcc0356bdd25d": {
          "model_module": "@jupyter-widgets/controls",
          "model_name": "ProgressStyleModel",
          "model_module_version": "1.5.0",
          "state": {
            "_model_module": "@jupyter-widgets/controls",
            "_model_module_version": "1.5.0",
            "_model_name": "ProgressStyleModel",
            "_view_count": null,
            "_view_module": "@jupyter-widgets/base",
            "_view_module_version": "1.2.0",
            "_view_name": "StyleView",
            "bar_color": null,
            "description_width": ""
          }
        },
        "4c70ff7fdcad4b1698f6a548ee2bad44": {
          "model_module": "@jupyter-widgets/base",
          "model_name": "LayoutModel",
          "model_module_version": "1.2.0",
          "state": {
            "_model_module": "@jupyter-widgets/base",
            "_model_module_version": "1.2.0",
            "_model_name": "LayoutModel",
            "_view_count": null,
            "_view_module": "@jupyter-widgets/base",
            "_view_module_version": "1.2.0",
            "_view_name": "LayoutView",
            "align_content": null,
            "align_items": null,
            "align_self": null,
            "border": null,
            "bottom": null,
            "display": null,
            "flex": null,
            "flex_flow": null,
            "grid_area": null,
            "grid_auto_columns": null,
            "grid_auto_flow": null,
            "grid_auto_rows": null,
            "grid_column": null,
            "grid_gap": null,
            "grid_row": null,
            "grid_template_areas": null,
            "grid_template_columns": null,
            "grid_template_rows": null,
            "height": null,
            "justify_content": null,
            "justify_items": null,
            "left": null,
            "margin": null,
            "max_height": null,
            "max_width": null,
            "min_height": null,
            "min_width": null,
            "object_fit": null,
            "object_position": null,
            "order": null,
            "overflow": null,
            "overflow_x": null,
            "overflow_y": null,
            "padding": null,
            "right": null,
            "top": null,
            "visibility": null,
            "width": null
          }
        },
        "7e12d12a970847aba8405334a3d53424": {
          "model_module": "@jupyter-widgets/controls",
          "model_name": "DescriptionStyleModel",
          "model_module_version": "1.5.0",
          "state": {
            "_model_module": "@jupyter-widgets/controls",
            "_model_module_version": "1.5.0",
            "_model_name": "DescriptionStyleModel",
            "_view_count": null,
            "_view_module": "@jupyter-widgets/base",
            "_view_module_version": "1.2.0",
            "_view_name": "StyleView",
            "description_width": ""
          }
        },
        "b7b90b0d83a246ceb36dd2af0b8b34c2": {
          "model_module": "@jupyter-widgets/controls",
          "model_name": "HBoxModel",
          "model_module_version": "1.5.0",
          "state": {
            "_dom_classes": [],
            "_model_module": "@jupyter-widgets/controls",
            "_model_module_version": "1.5.0",
            "_model_name": "HBoxModel",
            "_view_count": null,
            "_view_module": "@jupyter-widgets/controls",
            "_view_module_version": "1.5.0",
            "_view_name": "HBoxView",
            "box_style": "",
            "children": [
              "IPY_MODEL_8bd9284cd3434f4796ababa74b0f2718",
              "IPY_MODEL_387f6a0e05d9480395f3b3c2e195a8e2",
              "IPY_MODEL_a113cce3047e480db550b731872db2b0"
            ],
            "layout": "IPY_MODEL_6943d591540e445996b8d135fdb6edb2"
          }
        },
        "8bd9284cd3434f4796ababa74b0f2718": {
          "model_module": "@jupyter-widgets/controls",
          "model_name": "HTMLModel",
          "model_module_version": "1.5.0",
          "state": {
            "_dom_classes": [],
            "_model_module": "@jupyter-widgets/controls",
            "_model_module_version": "1.5.0",
            "_model_name": "HTMLModel",
            "_view_count": null,
            "_view_module": "@jupyter-widgets/controls",
            "_view_module_version": "1.5.0",
            "_view_name": "HTMLView",
            "description": "",
            "description_tooltip": null,
            "layout": "IPY_MODEL_a6089f4c4c694244b9c9bf152e2ed6e6",
            "placeholder": "​",
            "style": "IPY_MODEL_13d90e131d854703b481d83211d02016",
            "value": "Downloading: 100%"
          }
        },
        "387f6a0e05d9480395f3b3c2e195a8e2": {
          "model_module": "@jupyter-widgets/controls",
          "model_name": "FloatProgressModel",
          "model_module_version": "1.5.0",
          "state": {
            "_dom_classes": [],
            "_model_module": "@jupyter-widgets/controls",
            "_model_module_version": "1.5.0",
            "_model_name": "FloatProgressModel",
            "_view_count": null,
            "_view_module": "@jupyter-widgets/controls",
            "_view_module_version": "1.5.0",
            "_view_name": "ProgressView",
            "bar_style": "success",
            "description": "",
            "description_tooltip": null,
            "layout": "IPY_MODEL_fd9beedd63e44685abdbc2215fe9df86",
            "max": 456318,
            "min": 0,
            "orientation": "horizontal",
            "style": "IPY_MODEL_611474944df9454792e97c1034c3dcb6",
            "value": 456318
          }
        },
        "a113cce3047e480db550b731872db2b0": {
          "model_module": "@jupyter-widgets/controls",
          "model_name": "HTMLModel",
          "model_module_version": "1.5.0",
          "state": {
            "_dom_classes": [],
            "_model_module": "@jupyter-widgets/controls",
            "_model_module_version": "1.5.0",
            "_model_name": "HTMLModel",
            "_view_count": null,
            "_view_module": "@jupyter-widgets/controls",
            "_view_module_version": "1.5.0",
            "_view_name": "HTMLView",
            "description": "",
            "description_tooltip": null,
            "layout": "IPY_MODEL_c084080c81b7433aaf8ea5c8000769a8",
            "placeholder": "​",
            "style": "IPY_MODEL_8e1a2ecdf6c54529872026a6e5db557b",
            "value": " 456k/456k [00:00&lt;00:00, 864kB/s]"
          }
        },
        "6943d591540e445996b8d135fdb6edb2": {
          "model_module": "@jupyter-widgets/base",
          "model_name": "LayoutModel",
          "model_module_version": "1.2.0",
          "state": {
            "_model_module": "@jupyter-widgets/base",
            "_model_module_version": "1.2.0",
            "_model_name": "LayoutModel",
            "_view_count": null,
            "_view_module": "@jupyter-widgets/base",
            "_view_module_version": "1.2.0",
            "_view_name": "LayoutView",
            "align_content": null,
            "align_items": null,
            "align_self": null,
            "border": null,
            "bottom": null,
            "display": null,
            "flex": null,
            "flex_flow": null,
            "grid_area": null,
            "grid_auto_columns": null,
            "grid_auto_flow": null,
            "grid_auto_rows": null,
            "grid_column": null,
            "grid_gap": null,
            "grid_row": null,
            "grid_template_areas": null,
            "grid_template_columns": null,
            "grid_template_rows": null,
            "height": null,
            "justify_content": null,
            "justify_items": null,
            "left": null,
            "margin": null,
            "max_height": null,
            "max_width": null,
            "min_height": null,
            "min_width": null,
            "object_fit": null,
            "object_position": null,
            "order": null,
            "overflow": null,
            "overflow_x": null,
            "overflow_y": null,
            "padding": null,
            "right": null,
            "top": null,
            "visibility": null,
            "width": null
          }
        },
        "a6089f4c4c694244b9c9bf152e2ed6e6": {
          "model_module": "@jupyter-widgets/base",
          "model_name": "LayoutModel",
          "model_module_version": "1.2.0",
          "state": {
            "_model_module": "@jupyter-widgets/base",
            "_model_module_version": "1.2.0",
            "_model_name": "LayoutModel",
            "_view_count": null,
            "_view_module": "@jupyter-widgets/base",
            "_view_module_version": "1.2.0",
            "_view_name": "LayoutView",
            "align_content": null,
            "align_items": null,
            "align_self": null,
            "border": null,
            "bottom": null,
            "display": null,
            "flex": null,
            "flex_flow": null,
            "grid_area": null,
            "grid_auto_columns": null,
            "grid_auto_flow": null,
            "grid_auto_rows": null,
            "grid_column": null,
            "grid_gap": null,
            "grid_row": null,
            "grid_template_areas": null,
            "grid_template_columns": null,
            "grid_template_rows": null,
            "height": null,
            "justify_content": null,
            "justify_items": null,
            "left": null,
            "margin": null,
            "max_height": null,
            "max_width": null,
            "min_height": null,
            "min_width": null,
            "object_fit": null,
            "object_position": null,
            "order": null,
            "overflow": null,
            "overflow_x": null,
            "overflow_y": null,
            "padding": null,
            "right": null,
            "top": null,
            "visibility": null,
            "width": null
          }
        },
        "13d90e131d854703b481d83211d02016": {
          "model_module": "@jupyter-widgets/controls",
          "model_name": "DescriptionStyleModel",
          "model_module_version": "1.5.0",
          "state": {
            "_model_module": "@jupyter-widgets/controls",
            "_model_module_version": "1.5.0",
            "_model_name": "DescriptionStyleModel",
            "_view_count": null,
            "_view_module": "@jupyter-widgets/base",
            "_view_module_version": "1.2.0",
            "_view_name": "StyleView",
            "description_width": ""
          }
        },
        "fd9beedd63e44685abdbc2215fe9df86": {
          "model_module": "@jupyter-widgets/base",
          "model_name": "LayoutModel",
          "model_module_version": "1.2.0",
          "state": {
            "_model_module": "@jupyter-widgets/base",
            "_model_module_version": "1.2.0",
            "_model_name": "LayoutModel",
            "_view_count": null,
            "_view_module": "@jupyter-widgets/base",
            "_view_module_version": "1.2.0",
            "_view_name": "LayoutView",
            "align_content": null,
            "align_items": null,
            "align_self": null,
            "border": null,
            "bottom": null,
            "display": null,
            "flex": null,
            "flex_flow": null,
            "grid_area": null,
            "grid_auto_columns": null,
            "grid_auto_flow": null,
            "grid_auto_rows": null,
            "grid_column": null,
            "grid_gap": null,
            "grid_row": null,
            "grid_template_areas": null,
            "grid_template_columns": null,
            "grid_template_rows": null,
            "height": null,
            "justify_content": null,
            "justify_items": null,
            "left": null,
            "margin": null,
            "max_height": null,
            "max_width": null,
            "min_height": null,
            "min_width": null,
            "object_fit": null,
            "object_position": null,
            "order": null,
            "overflow": null,
            "overflow_x": null,
            "overflow_y": null,
            "padding": null,
            "right": null,
            "top": null,
            "visibility": null,
            "width": null
          }
        },
        "611474944df9454792e97c1034c3dcb6": {
          "model_module": "@jupyter-widgets/controls",
          "model_name": "ProgressStyleModel",
          "model_module_version": "1.5.0",
          "state": {
            "_model_module": "@jupyter-widgets/controls",
            "_model_module_version": "1.5.0",
            "_model_name": "ProgressStyleModel",
            "_view_count": null,
            "_view_module": "@jupyter-widgets/base",
            "_view_module_version": "1.2.0",
            "_view_name": "StyleView",
            "bar_color": null,
            "description_width": ""
          }
        },
        "c084080c81b7433aaf8ea5c8000769a8": {
          "model_module": "@jupyter-widgets/base",
          "model_name": "LayoutModel",
          "model_module_version": "1.2.0",
          "state": {
            "_model_module": "@jupyter-widgets/base",
            "_model_module_version": "1.2.0",
            "_model_name": "LayoutModel",
            "_view_count": null,
            "_view_module": "@jupyter-widgets/base",
            "_view_module_version": "1.2.0",
            "_view_name": "LayoutView",
            "align_content": null,
            "align_items": null,
            "align_self": null,
            "border": null,
            "bottom": null,
            "display": null,
            "flex": null,
            "flex_flow": null,
            "grid_area": null,
            "grid_auto_columns": null,
            "grid_auto_flow": null,
            "grid_auto_rows": null,
            "grid_column": null,
            "grid_gap": null,
            "grid_row": null,
            "grid_template_areas": null,
            "grid_template_columns": null,
            "grid_template_rows": null,
            "height": null,
            "justify_content": null,
            "justify_items": null,
            "left": null,
            "margin": null,
            "max_height": null,
            "max_width": null,
            "min_height": null,
            "min_width": null,
            "object_fit": null,
            "object_position": null,
            "order": null,
            "overflow": null,
            "overflow_x": null,
            "overflow_y": null,
            "padding": null,
            "right": null,
            "top": null,
            "visibility": null,
            "width": null
          }
        },
        "8e1a2ecdf6c54529872026a6e5db557b": {
          "model_module": "@jupyter-widgets/controls",
          "model_name": "DescriptionStyleModel",
          "model_module_version": "1.5.0",
          "state": {
            "_model_module": "@jupyter-widgets/controls",
            "_model_module_version": "1.5.0",
            "_model_name": "DescriptionStyleModel",
            "_view_count": null,
            "_view_module": "@jupyter-widgets/base",
            "_view_module_version": "1.2.0",
            "_view_name": "StyleView",
            "description_width": ""
          }
        },
        "5452da721e014ce5a05b975bed66cc1d": {
          "model_module": "@jupyter-widgets/controls",
          "model_name": "HBoxModel",
          "model_module_version": "1.5.0",
          "state": {
            "_dom_classes": [],
            "_model_module": "@jupyter-widgets/controls",
            "_model_module_version": "1.5.0",
            "_model_name": "HBoxModel",
            "_view_count": null,
            "_view_module": "@jupyter-widgets/controls",
            "_view_module_version": "1.5.0",
            "_view_name": "HBoxView",
            "box_style": "",
            "children": [
              "IPY_MODEL_5776f51abde2424eabced804a06a912f",
              "IPY_MODEL_fcf1d0d737994d8e8e58d3952552bac8",
              "IPY_MODEL_000d42b1e0a54e1688a2bf26959fa1e6"
            ],
            "layout": "IPY_MODEL_8fa6df7e097b4017ba7d0f994d5e3cd4"
          }
        },
        "5776f51abde2424eabced804a06a912f": {
          "model_module": "@jupyter-widgets/controls",
          "model_name": "HTMLModel",
          "model_module_version": "1.5.0",
          "state": {
            "_dom_classes": [],
            "_model_module": "@jupyter-widgets/controls",
            "_model_module_version": "1.5.0",
            "_model_name": "HTMLModel",
            "_view_count": null,
            "_view_module": "@jupyter-widgets/controls",
            "_view_module_version": "1.5.0",
            "_view_name": "HTMLView",
            "description": "",
            "description_tooltip": null,
            "layout": "IPY_MODEL_9bad3569bef54cfb85010284732e4675",
            "placeholder": "​",
            "style": "IPY_MODEL_64a6ddf5ddc24567a9c92a3017e103b9",
            "value": "Downloading: 100%"
          }
        },
        "fcf1d0d737994d8e8e58d3952552bac8": {
          "model_module": "@jupyter-widgets/controls",
          "model_name": "FloatProgressModel",
          "model_module_version": "1.5.0",
          "state": {
            "_dom_classes": [],
            "_model_module": "@jupyter-widgets/controls",
            "_model_module_version": "1.5.0",
            "_model_name": "FloatProgressModel",
            "_view_count": null,
            "_view_module": "@jupyter-widgets/controls",
            "_view_module_version": "1.5.0",
            "_view_name": "ProgressView",
            "bar_style": "success",
            "description": "",
            "description_tooltip": null,
            "layout": "IPY_MODEL_d720a5fd67f94494aaa6a019bcba81db",
            "max": 481,
            "min": 0,
            "orientation": "horizontal",
            "style": "IPY_MODEL_f3624499addf436eba6ec81e6e366387",
            "value": 481
          }
        },
        "000d42b1e0a54e1688a2bf26959fa1e6": {
          "model_module": "@jupyter-widgets/controls",
          "model_name": "HTMLModel",
          "model_module_version": "1.5.0",
          "state": {
            "_dom_classes": [],
            "_model_module": "@jupyter-widgets/controls",
            "_model_module_version": "1.5.0",
            "_model_name": "HTMLModel",
            "_view_count": null,
            "_view_module": "@jupyter-widgets/controls",
            "_view_module_version": "1.5.0",
            "_view_name": "HTMLView",
            "description": "",
            "description_tooltip": null,
            "layout": "IPY_MODEL_81542b8cd97d448995736a559a853d1c",
            "placeholder": "​",
            "style": "IPY_MODEL_e70311b0fdb24e539c45978a562dc6e1",
            "value": " 481/481 [00:00&lt;00:00, 13.7kB/s]"
          }
        },
        "8fa6df7e097b4017ba7d0f994d5e3cd4": {
          "model_module": "@jupyter-widgets/base",
          "model_name": "LayoutModel",
          "model_module_version": "1.2.0",
          "state": {
            "_model_module": "@jupyter-widgets/base",
            "_model_module_version": "1.2.0",
            "_model_name": "LayoutModel",
            "_view_count": null,
            "_view_module": "@jupyter-widgets/base",
            "_view_module_version": "1.2.0",
            "_view_name": "LayoutView",
            "align_content": null,
            "align_items": null,
            "align_self": null,
            "border": null,
            "bottom": null,
            "display": null,
            "flex": null,
            "flex_flow": null,
            "grid_area": null,
            "grid_auto_columns": null,
            "grid_auto_flow": null,
            "grid_auto_rows": null,
            "grid_column": null,
            "grid_gap": null,
            "grid_row": null,
            "grid_template_areas": null,
            "grid_template_columns": null,
            "grid_template_rows": null,
            "height": null,
            "justify_content": null,
            "justify_items": null,
            "left": null,
            "margin": null,
            "max_height": null,
            "max_width": null,
            "min_height": null,
            "min_width": null,
            "object_fit": null,
            "object_position": null,
            "order": null,
            "overflow": null,
            "overflow_x": null,
            "overflow_y": null,
            "padding": null,
            "right": null,
            "top": null,
            "visibility": null,
            "width": null
          }
        },
        "9bad3569bef54cfb85010284732e4675": {
          "model_module": "@jupyter-widgets/base",
          "model_name": "LayoutModel",
          "model_module_version": "1.2.0",
          "state": {
            "_model_module": "@jupyter-widgets/base",
            "_model_module_version": "1.2.0",
            "_model_name": "LayoutModel",
            "_view_count": null,
            "_view_module": "@jupyter-widgets/base",
            "_view_module_version": "1.2.0",
            "_view_name": "LayoutView",
            "align_content": null,
            "align_items": null,
            "align_self": null,
            "border": null,
            "bottom": null,
            "display": null,
            "flex": null,
            "flex_flow": null,
            "grid_area": null,
            "grid_auto_columns": null,
            "grid_auto_flow": null,
            "grid_auto_rows": null,
            "grid_column": null,
            "grid_gap": null,
            "grid_row": null,
            "grid_template_areas": null,
            "grid_template_columns": null,
            "grid_template_rows": null,
            "height": null,
            "justify_content": null,
            "justify_items": null,
            "left": null,
            "margin": null,
            "max_height": null,
            "max_width": null,
            "min_height": null,
            "min_width": null,
            "object_fit": null,
            "object_position": null,
            "order": null,
            "overflow": null,
            "overflow_x": null,
            "overflow_y": null,
            "padding": null,
            "right": null,
            "top": null,
            "visibility": null,
            "width": null
          }
        },
        "64a6ddf5ddc24567a9c92a3017e103b9": {
          "model_module": "@jupyter-widgets/controls",
          "model_name": "DescriptionStyleModel",
          "model_module_version": "1.5.0",
          "state": {
            "_model_module": "@jupyter-widgets/controls",
            "_model_module_version": "1.5.0",
            "_model_name": "DescriptionStyleModel",
            "_view_count": null,
            "_view_module": "@jupyter-widgets/base",
            "_view_module_version": "1.2.0",
            "_view_name": "StyleView",
            "description_width": ""
          }
        },
        "d720a5fd67f94494aaa6a019bcba81db": {
          "model_module": "@jupyter-widgets/base",
          "model_name": "LayoutModel",
          "model_module_version": "1.2.0",
          "state": {
            "_model_module": "@jupyter-widgets/base",
            "_model_module_version": "1.2.0",
            "_model_name": "LayoutModel",
            "_view_count": null,
            "_view_module": "@jupyter-widgets/base",
            "_view_module_version": "1.2.0",
            "_view_name": "LayoutView",
            "align_content": null,
            "align_items": null,
            "align_self": null,
            "border": null,
            "bottom": null,
            "display": null,
            "flex": null,
            "flex_flow": null,
            "grid_area": null,
            "grid_auto_columns": null,
            "grid_auto_flow": null,
            "grid_auto_rows": null,
            "grid_column": null,
            "grid_gap": null,
            "grid_row": null,
            "grid_template_areas": null,
            "grid_template_columns": null,
            "grid_template_rows": null,
            "height": null,
            "justify_content": null,
            "justify_items": null,
            "left": null,
            "margin": null,
            "max_height": null,
            "max_width": null,
            "min_height": null,
            "min_width": null,
            "object_fit": null,
            "object_position": null,
            "order": null,
            "overflow": null,
            "overflow_x": null,
            "overflow_y": null,
            "padding": null,
            "right": null,
            "top": null,
            "visibility": null,
            "width": null
          }
        },
        "f3624499addf436eba6ec81e6e366387": {
          "model_module": "@jupyter-widgets/controls",
          "model_name": "ProgressStyleModel",
          "model_module_version": "1.5.0",
          "state": {
            "_model_module": "@jupyter-widgets/controls",
            "_model_module_version": "1.5.0",
            "_model_name": "ProgressStyleModel",
            "_view_count": null,
            "_view_module": "@jupyter-widgets/base",
            "_view_module_version": "1.2.0",
            "_view_name": "StyleView",
            "bar_color": null,
            "description_width": ""
          }
        },
        "81542b8cd97d448995736a559a853d1c": {
          "model_module": "@jupyter-widgets/base",
          "model_name": "LayoutModel",
          "model_module_version": "1.2.0",
          "state": {
            "_model_module": "@jupyter-widgets/base",
            "_model_module_version": "1.2.0",
            "_model_name": "LayoutModel",
            "_view_count": null,
            "_view_module": "@jupyter-widgets/base",
            "_view_module_version": "1.2.0",
            "_view_name": "LayoutView",
            "align_content": null,
            "align_items": null,
            "align_self": null,
            "border": null,
            "bottom": null,
            "display": null,
            "flex": null,
            "flex_flow": null,
            "grid_area": null,
            "grid_auto_columns": null,
            "grid_auto_flow": null,
            "grid_auto_rows": null,
            "grid_column": null,
            "grid_gap": null,
            "grid_row": null,
            "grid_template_areas": null,
            "grid_template_columns": null,
            "grid_template_rows": null,
            "height": null,
            "justify_content": null,
            "justify_items": null,
            "left": null,
            "margin": null,
            "max_height": null,
            "max_width": null,
            "min_height": null,
            "min_width": null,
            "object_fit": null,
            "object_position": null,
            "order": null,
            "overflow": null,
            "overflow_x": null,
            "overflow_y": null,
            "padding": null,
            "right": null,
            "top": null,
            "visibility": null,
            "width": null
          }
        },
        "e70311b0fdb24e539c45978a562dc6e1": {
          "model_module": "@jupyter-widgets/controls",
          "model_name": "DescriptionStyleModel",
          "model_module_version": "1.5.0",
          "state": {
            "_model_module": "@jupyter-widgets/controls",
            "_model_module_version": "1.5.0",
            "_model_name": "DescriptionStyleModel",
            "_view_count": null,
            "_view_module": "@jupyter-widgets/base",
            "_view_module_version": "1.2.0",
            "_view_name": "StyleView",
            "description_width": ""
          }
        },
        "5ddd91df651642af9a503ae73ed03a5d": {
          "model_module": "@jupyter-widgets/controls",
          "model_name": "HBoxModel",
          "model_module_version": "1.5.0",
          "state": {
            "_dom_classes": [],
            "_model_module": "@jupyter-widgets/controls",
            "_model_module_version": "1.5.0",
            "_model_name": "HBoxModel",
            "_view_count": null,
            "_view_module": "@jupyter-widgets/controls",
            "_view_module_version": "1.5.0",
            "_view_name": "HBoxView",
            "box_style": "",
            "children": [
              "IPY_MODEL_d2b1950d9c9e472eb762311dfe5ef840",
              "IPY_MODEL_987e4e54a1d34611a37c7eebbf53e64d",
              "IPY_MODEL_6cfa4289e94f46f9830915738dbb8931"
            ],
            "layout": "IPY_MODEL_2c4664eea9b84d479e1f6a1d1bb1f157"
          }
        },
        "d2b1950d9c9e472eb762311dfe5ef840": {
          "model_module": "@jupyter-widgets/controls",
          "model_name": "HTMLModel",
          "model_module_version": "1.5.0",
          "state": {
            "_dom_classes": [],
            "_model_module": "@jupyter-widgets/controls",
            "_model_module_version": "1.5.0",
            "_model_name": "HTMLModel",
            "_view_count": null,
            "_view_module": "@jupyter-widgets/controls",
            "_view_module_version": "1.5.0",
            "_view_name": "HTMLView",
            "description": "",
            "description_tooltip": null,
            "layout": "IPY_MODEL_2f0601c86fa74a41907d33550931bd91",
            "placeholder": "​",
            "style": "IPY_MODEL_917aa7d362ac46fcac1167f4e4166a4d",
            "value": "Downloading: 100%"
          }
        },
        "987e4e54a1d34611a37c7eebbf53e64d": {
          "model_module": "@jupyter-widgets/controls",
          "model_name": "FloatProgressModel",
          "model_module_version": "1.5.0",
          "state": {
            "_dom_classes": [],
            "_model_module": "@jupyter-widgets/controls",
            "_model_module_version": "1.5.0",
            "_model_name": "FloatProgressModel",
            "_view_count": null,
            "_view_module": "@jupyter-widgets/controls",
            "_view_module_version": "1.5.0",
            "_view_name": "ProgressView",
            "bar_style": "success",
            "description": "",
            "description_tooltip": null,
            "layout": "IPY_MODEL_e6dc5a4666f849919fff0a0fbde2c298",
            "max": 657434796,
            "min": 0,
            "orientation": "horizontal",
            "style": "IPY_MODEL_559b00bcc7374f418ab47384b735aa07",
            "value": 657434796
          }
        },
        "6cfa4289e94f46f9830915738dbb8931": {
          "model_module": "@jupyter-widgets/controls",
          "model_name": "HTMLModel",
          "model_module_version": "1.5.0",
          "state": {
            "_dom_classes": [],
            "_model_module": "@jupyter-widgets/controls",
            "_model_module_version": "1.5.0",
            "_model_name": "HTMLModel",
            "_view_count": null,
            "_view_module": "@jupyter-widgets/controls",
            "_view_module_version": "1.5.0",
            "_view_name": "HTMLView",
            "description": "",
            "description_tooltip": null,
            "layout": "IPY_MODEL_4e0eab0f1ba94400961486aca5e09f2e",
            "placeholder": "​",
            "style": "IPY_MODEL_8e70b7f766454b98b04f5b0bb7208aad",
            "value": " 657M/657M [00:19&lt;00:00, 74.3MB/s]"
          }
        },
        "2c4664eea9b84d479e1f6a1d1bb1f157": {
          "model_module": "@jupyter-widgets/base",
          "model_name": "LayoutModel",
          "model_module_version": "1.2.0",
          "state": {
            "_model_module": "@jupyter-widgets/base",
            "_model_module_version": "1.2.0",
            "_model_name": "LayoutModel",
            "_view_count": null,
            "_view_module": "@jupyter-widgets/base",
            "_view_module_version": "1.2.0",
            "_view_name": "LayoutView",
            "align_content": null,
            "align_items": null,
            "align_self": null,
            "border": null,
            "bottom": null,
            "display": null,
            "flex": null,
            "flex_flow": null,
            "grid_area": null,
            "grid_auto_columns": null,
            "grid_auto_flow": null,
            "grid_auto_rows": null,
            "grid_column": null,
            "grid_gap": null,
            "grid_row": null,
            "grid_template_areas": null,
            "grid_template_columns": null,
            "grid_template_rows": null,
            "height": null,
            "justify_content": null,
            "justify_items": null,
            "left": null,
            "margin": null,
            "max_height": null,
            "max_width": null,
            "min_height": null,
            "min_width": null,
            "object_fit": null,
            "object_position": null,
            "order": null,
            "overflow": null,
            "overflow_x": null,
            "overflow_y": null,
            "padding": null,
            "right": null,
            "top": null,
            "visibility": null,
            "width": null
          }
        },
        "2f0601c86fa74a41907d33550931bd91": {
          "model_module": "@jupyter-widgets/base",
          "model_name": "LayoutModel",
          "model_module_version": "1.2.0",
          "state": {
            "_model_module": "@jupyter-widgets/base",
            "_model_module_version": "1.2.0",
            "_model_name": "LayoutModel",
            "_view_count": null,
            "_view_module": "@jupyter-widgets/base",
            "_view_module_version": "1.2.0",
            "_view_name": "LayoutView",
            "align_content": null,
            "align_items": null,
            "align_self": null,
            "border": null,
            "bottom": null,
            "display": null,
            "flex": null,
            "flex_flow": null,
            "grid_area": null,
            "grid_auto_columns": null,
            "grid_auto_flow": null,
            "grid_auto_rows": null,
            "grid_column": null,
            "grid_gap": null,
            "grid_row": null,
            "grid_template_areas": null,
            "grid_template_columns": null,
            "grid_template_rows": null,
            "height": null,
            "justify_content": null,
            "justify_items": null,
            "left": null,
            "margin": null,
            "max_height": null,
            "max_width": null,
            "min_height": null,
            "min_width": null,
            "object_fit": null,
            "object_position": null,
            "order": null,
            "overflow": null,
            "overflow_x": null,
            "overflow_y": null,
            "padding": null,
            "right": null,
            "top": null,
            "visibility": null,
            "width": null
          }
        },
        "917aa7d362ac46fcac1167f4e4166a4d": {
          "model_module": "@jupyter-widgets/controls",
          "model_name": "DescriptionStyleModel",
          "model_module_version": "1.5.0",
          "state": {
            "_model_module": "@jupyter-widgets/controls",
            "_model_module_version": "1.5.0",
            "_model_name": "DescriptionStyleModel",
            "_view_count": null,
            "_view_module": "@jupyter-widgets/base",
            "_view_module_version": "1.2.0",
            "_view_name": "StyleView",
            "description_width": ""
          }
        },
        "e6dc5a4666f849919fff0a0fbde2c298": {
          "model_module": "@jupyter-widgets/base",
          "model_name": "LayoutModel",
          "model_module_version": "1.2.0",
          "state": {
            "_model_module": "@jupyter-widgets/base",
            "_model_module_version": "1.2.0",
            "_model_name": "LayoutModel",
            "_view_count": null,
            "_view_module": "@jupyter-widgets/base",
            "_view_module_version": "1.2.0",
            "_view_name": "LayoutView",
            "align_content": null,
            "align_items": null,
            "align_self": null,
            "border": null,
            "bottom": null,
            "display": null,
            "flex": null,
            "flex_flow": null,
            "grid_area": null,
            "grid_auto_columns": null,
            "grid_auto_flow": null,
            "grid_auto_rows": null,
            "grid_column": null,
            "grid_gap": null,
            "grid_row": null,
            "grid_template_areas": null,
            "grid_template_columns": null,
            "grid_template_rows": null,
            "height": null,
            "justify_content": null,
            "justify_items": null,
            "left": null,
            "margin": null,
            "max_height": null,
            "max_width": null,
            "min_height": null,
            "min_width": null,
            "object_fit": null,
            "object_position": null,
            "order": null,
            "overflow": null,
            "overflow_x": null,
            "overflow_y": null,
            "padding": null,
            "right": null,
            "top": null,
            "visibility": null,
            "width": null
          }
        },
        "559b00bcc7374f418ab47384b735aa07": {
          "model_module": "@jupyter-widgets/controls",
          "model_name": "ProgressStyleModel",
          "model_module_version": "1.5.0",
          "state": {
            "_model_module": "@jupyter-widgets/controls",
            "_model_module_version": "1.5.0",
            "_model_name": "ProgressStyleModel",
            "_view_count": null,
            "_view_module": "@jupyter-widgets/base",
            "_view_module_version": "1.2.0",
            "_view_name": "StyleView",
            "bar_color": null,
            "description_width": ""
          }
        },
        "4e0eab0f1ba94400961486aca5e09f2e": {
          "model_module": "@jupyter-widgets/base",
          "model_name": "LayoutModel",
          "model_module_version": "1.2.0",
          "state": {
            "_model_module": "@jupyter-widgets/base",
            "_model_module_version": "1.2.0",
            "_model_name": "LayoutModel",
            "_view_count": null,
            "_view_module": "@jupyter-widgets/base",
            "_view_module_version": "1.2.0",
            "_view_name": "LayoutView",
            "align_content": null,
            "align_items": null,
            "align_self": null,
            "border": null,
            "bottom": null,
            "display": null,
            "flex": null,
            "flex_flow": null,
            "grid_area": null,
            "grid_auto_columns": null,
            "grid_auto_flow": null,
            "grid_auto_rows": null,
            "grid_column": null,
            "grid_gap": null,
            "grid_row": null,
            "grid_template_areas": null,
            "grid_template_columns": null,
            "grid_template_rows": null,
            "height": null,
            "justify_content": null,
            "justify_items": null,
            "left": null,
            "margin": null,
            "max_height": null,
            "max_width": null,
            "min_height": null,
            "min_width": null,
            "object_fit": null,
            "object_position": null,
            "order": null,
            "overflow": null,
            "overflow_x": null,
            "overflow_y": null,
            "padding": null,
            "right": null,
            "top": null,
            "visibility": null,
            "width": null
          }
        },
        "8e70b7f766454b98b04f5b0bb7208aad": {
          "model_module": "@jupyter-widgets/controls",
          "model_name": "DescriptionStyleModel",
          "model_module_version": "1.5.0",
          "state": {
            "_model_module": "@jupyter-widgets/controls",
            "_model_module_version": "1.5.0",
            "_model_name": "DescriptionStyleModel",
            "_view_count": null,
            "_view_module": "@jupyter-widgets/base",
            "_view_module_version": "1.2.0",
            "_view_name": "StyleView",
            "description_width": ""
          }
        }
      }
    },
    "accelerator": "GPU"
  },
  "nbformat": 4,
  "nbformat_minor": 0
}